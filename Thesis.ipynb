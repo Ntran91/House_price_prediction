{
 "cells": [
  {
   "cell_type": "code",
   "execution_count": 73,
   "id": "a8ea26bb",
   "metadata": {},
   "outputs": [
    {
     "name": "stdout",
     "output_type": "stream",
     "text": [
      "Collecting tensorflow\n",
      "  Downloading tensorflow-2.8.0-cp39-cp39-win_amd64.whl (438.0 MB)\n",
      "Collecting opt-einsum>=2.3.2\n",
      "  Using cached opt_einsum-3.3.0-py3-none-any.whl (65 kB)\n",
      "Requirement already satisfied: numpy>=1.20 in c:\\users\\tl\\anaconda\\lib\\site-packages (from tensorflow) (1.20.3)\n",
      "Collecting keras<2.9,>=2.8.0rc0\n",
      "  Downloading keras-2.8.0-py2.py3-none-any.whl (1.4 MB)\n",
      "Collecting tensorboard<2.9,>=2.8\n",
      "  Downloading tensorboard-2.8.0-py3-none-any.whl (5.8 MB)\n",
      "Collecting keras-preprocessing>=1.1.1\n",
      "  Using cached Keras_Preprocessing-1.1.2-py2.py3-none-any.whl (42 kB)\n",
      "Collecting google-pasta>=0.1.1\n",
      "  Using cached google_pasta-0.2.0-py3-none-any.whl (57 kB)\n",
      "Collecting tensorflow-io-gcs-filesystem>=0.23.1\n",
      "  Downloading tensorflow_io_gcs_filesystem-0.25.0-cp39-cp39-win_amd64.whl (1.5 MB)\n",
      "Collecting libclang>=9.0.1\n",
      "  Downloading libclang-14.0.1-py2.py3-none-win_amd64.whl (14.2 MB)\n",
      "Collecting gast>=0.2.1\n",
      "  Downloading gast-0.5.3-py3-none-any.whl (19 kB)\n",
      "Requirement already satisfied: typing-extensions>=3.6.6 in c:\\users\\tl\\anaconda\\lib\\site-packages (from tensorflow) (3.10.0.2)\n",
      "Collecting tf-estimator-nightly==2.8.0.dev2021122109\n",
      "  Downloading tf_estimator_nightly-2.8.0.dev2021122109-py2.py3-none-any.whl (462 kB)\n",
      "Collecting astunparse>=1.6.0\n",
      "  Using cached astunparse-1.6.3-py2.py3-none-any.whl (12 kB)\n",
      "Collecting termcolor>=1.1.0\n",
      "  Using cached termcolor-1.1.0.tar.gz (3.9 kB)\n",
      "Requirement already satisfied: six>=1.12.0 in c:\\users\\tl\\anaconda\\lib\\site-packages (from tensorflow) (1.16.0)\n",
      "Requirement already satisfied: wrapt>=1.11.0 in c:\\users\\tl\\anaconda\\lib\\site-packages (from tensorflow) (1.12.1)\n",
      "Collecting grpcio<2.0,>=1.24.3\n",
      "  Downloading grpcio-1.46.0-cp39-cp39-win_amd64.whl (3.5 MB)\n",
      "Collecting absl-py>=0.4.0\n",
      "  Using cached absl_py-1.0.0-py3-none-any.whl (126 kB)\n",
      "Collecting protobuf>=3.9.2\n",
      "  Downloading protobuf-3.20.1-cp39-cp39-win_amd64.whl (904 kB)\n",
      "Collecting flatbuffers>=1.12\n",
      "  Using cached flatbuffers-2.0-py2.py3-none-any.whl (26 kB)\n",
      "Requirement already satisfied: setuptools in c:\\users\\tl\\anaconda\\lib\\site-packages (from tensorflow) (58.0.4)\n",
      "Requirement already satisfied: h5py>=2.9.0 in c:\\users\\tl\\anaconda\\lib\\site-packages (from tensorflow) (3.2.1)\n",
      "Requirement already satisfied: wheel<1.0,>=0.23.0 in c:\\users\\tl\\anaconda\\lib\\site-packages (from astunparse>=1.6.0->tensorflow) (0.37.0)\n",
      "Collecting markdown>=2.6.8\n",
      "  Using cached Markdown-3.3.6-py3-none-any.whl (97 kB)\n",
      "Collecting google-auth-oauthlib<0.5,>=0.4.1\n",
      "  Using cached google_auth_oauthlib-0.4.6-py2.py3-none-any.whl (18 kB)\n",
      "Requirement already satisfied: werkzeug>=0.11.15 in c:\\users\\tl\\anaconda\\lib\\site-packages (from tensorboard<2.9,>=2.8->tensorflow) (2.0.2)\n",
      "Collecting tensorboard-data-server<0.7.0,>=0.6.0\n",
      "  Using cached tensorboard_data_server-0.6.1-py3-none-any.whl (2.4 kB)\n",
      "Collecting google-auth<3,>=1.6.3\n",
      "  Downloading google_auth-2.6.6-py2.py3-none-any.whl (156 kB)\n",
      "Collecting tensorboard-plugin-wit>=1.6.0\n",
      "  Downloading tensorboard_plugin_wit-1.8.1-py3-none-any.whl (781 kB)\n",
      "Requirement already satisfied: requests<3,>=2.21.0 in c:\\users\\tl\\anaconda\\lib\\site-packages (from tensorboard<2.9,>=2.8->tensorflow) (2.26.0)\n",
      "Collecting pyasn1-modules>=0.2.1\n",
      "  Using cached pyasn1_modules-0.2.8-py2.py3-none-any.whl (155 kB)\n",
      "Collecting rsa<5,>=3.1.4\n",
      "  Using cached rsa-4.8-py3-none-any.whl (39 kB)\n",
      "Collecting cachetools<6.0,>=2.0.0\n",
      "  Downloading cachetools-5.0.0-py3-none-any.whl (9.1 kB)\n",
      "Collecting requests-oauthlib>=0.7.0\n",
      "  Downloading requests_oauthlib-1.3.1-py2.py3-none-any.whl (23 kB)\n",
      "Requirement already satisfied: importlib-metadata>=4.4 in c:\\users\\tl\\anaconda\\lib\\site-packages (from markdown>=2.6.8->tensorboard<2.9,>=2.8->tensorflow) (4.8.1)\n",
      "Requirement already satisfied: zipp>=0.5 in c:\\users\\tl\\anaconda\\lib\\site-packages (from importlib-metadata>=4.4->markdown>=2.6.8->tensorboard<2.9,>=2.8->tensorflow) (3.6.0)\n",
      "Collecting pyasn1<0.5.0,>=0.4.6\n",
      "  Using cached pyasn1-0.4.8-py2.py3-none-any.whl (77 kB)\n",
      "Requirement already satisfied: certifi>=2017.4.17 in c:\\users\\tl\\anaconda\\lib\\site-packages (from requests<3,>=2.21.0->tensorboard<2.9,>=2.8->tensorflow) (2021.10.8)\n",
      "Requirement already satisfied: idna<4,>=2.5 in c:\\users\\tl\\anaconda\\lib\\site-packages (from requests<3,>=2.21.0->tensorboard<2.9,>=2.8->tensorflow) (3.2)\n",
      "Requirement already satisfied: urllib3<1.27,>=1.21.1 in c:\\users\\tl\\anaconda\\lib\\site-packages (from requests<3,>=2.21.0->tensorboard<2.9,>=2.8->tensorflow) (1.26.7)\n",
      "Requirement already satisfied: charset-normalizer~=2.0.0 in c:\\users\\tl\\anaconda\\lib\\site-packages (from requests<3,>=2.21.0->tensorboard<2.9,>=2.8->tensorflow) (2.0.4)\n",
      "Collecting oauthlib>=3.0.0\n",
      "  Downloading oauthlib-3.2.0-py3-none-any.whl (151 kB)\n",
      "Building wheels for collected packages: termcolor\n",
      "  Building wheel for termcolor (setup.py): started\n",
      "  Building wheel for termcolor (setup.py): finished with status 'done'\n",
      "  Created wheel for termcolor: filename=termcolor-1.1.0-py3-none-any.whl size=4847 sha256=94aac8c60b0660d0bac8745ea2331d89b590e2d97aea05db1f9c14b7770ec086\n",
      "  Stored in directory: c:\\users\\tl\\appdata\\local\\pip\\cache\\wheels\\b6\\0d\\90\\0d1bbd99855f99cb2f6c2e5ff96f8023fad8ec367695f7d72d\n",
      "Successfully built termcolor\n",
      "Installing collected packages: pyasn1, rsa, pyasn1-modules, oauthlib, cachetools, requests-oauthlib, google-auth, tensorboard-plugin-wit, tensorboard-data-server, protobuf, markdown, grpcio, google-auth-oauthlib, absl-py, tf-estimator-nightly, termcolor, tensorflow-io-gcs-filesystem, tensorboard, opt-einsum, libclang, keras-preprocessing, keras, google-pasta, gast, flatbuffers, astunparse, tensorflow\n",
      "Successfully installed absl-py-1.0.0 astunparse-1.6.3 cachetools-5.0.0 flatbuffers-2.0 gast-0.5.3 google-auth-2.6.6 google-auth-oauthlib-0.4.6 google-pasta-0.2.0 grpcio-1.46.0 keras-2.8.0 keras-preprocessing-1.1.2 libclang-14.0.1 markdown-3.3.6 oauthlib-3.2.0 opt-einsum-3.3.0 protobuf-3.20.1 pyasn1-0.4.8 pyasn1-modules-0.2.8 requests-oauthlib-1.3.1 rsa-4.8 tensorboard-2.8.0 tensorboard-data-server-0.6.1 tensorboard-plugin-wit-1.8.1 tensorflow-2.8.0 tensorflow-io-gcs-filesystem-0.25.0 termcolor-1.1.0 tf-estimator-nightly-2.8.0.dev2021122109\n",
      "Note: you may need to restart the kernel to use updated packages.\n"
     ]
    }
   ],
   "source": [
    "pip install tensorflow"
   ]
  },
  {
   "cell_type": "code",
   "execution_count": 74,
   "id": "dc241033",
   "metadata": {},
   "outputs": [],
   "source": [
    "import geopy\n",
    "from geopy.geocoders import Nominatim\n",
    "from geopy.extra.rate_limiter import RateLimiter\n",
    "import pandas as pd\n",
    "import numpy as np\n",
    "from sklearn.preprocessing import LabelEncoder\n",
    "from sklearn.model_selection import train_test_split\n",
    "from sklearn.preprocessing import StandardScaler\n",
    "from sklearn.metrics import mean_absolute_error\n",
    "from sklearn.metrics import mean_squared_error\n",
    "from sklearn.metrics import r2_score\n",
    "from sklearn.linear_model import LinearRegression\n",
    "from sklearn.model_selection import GridSearchCV\n",
    "from sklearn.neighbors import KNeighborsRegressor\n",
    "from sklearn.svm import LinearSVR\n",
    "from sklearn.pipeline import make_pipeline\n",
    "from sklearn import tree\n",
    "\n",
    "from tensorflow.keras.models import Sequential\n",
    "from tensorflow.keras.layers import Dense, Dropout, Activation\n",
    "from tensorflow.keras.optimizers import Adam"
   ]
  },
  {
   "cell_type": "code",
   "execution_count": 2,
   "id": "d6e946df",
   "metadata": {},
   "outputs": [],
   "source": [
    "ams_1 = pd.read_json('Amsterdam_1(2771).json', dtype =False)"
   ]
  },
  {
   "cell_type": "code",
   "execution_count": 3,
   "id": "83acaf6e",
   "metadata": {},
   "outputs": [
    {
     "data": {
      "text/html": [
       "<div>\n",
       "<style scoped>\n",
       "    .dataframe tbody tr th:only-of-type {\n",
       "        vertical-align: middle;\n",
       "    }\n",
       "\n",
       "    .dataframe tbody tr th {\n",
       "        vertical-align: top;\n",
       "    }\n",
       "\n",
       "    .dataframe thead th {\n",
       "        text-align: right;\n",
       "    }\n",
       "</style>\n",
       "<table border=\"1\" class=\"dataframe\">\n",
       "  <thead>\n",
       "    <tr style=\"text-align: right;\">\n",
       "      <th></th>\n",
       "      <th>year_built</th>\n",
       "      <th>area</th>\n",
       "      <th>url</th>\n",
       "      <th>price</th>\n",
       "      <th>bedrooms</th>\n",
       "      <th>postal_code</th>\n",
       "      <th>rooms</th>\n",
       "      <th>address</th>\n",
       "      <th>property_type</th>\n",
       "    </tr>\n",
       "  </thead>\n",
       "  <tbody>\n",
       "    <tr>\n",
       "      <th>0</th>\n",
       "      <td>1984</td>\n",
       "      <td>31</td>\n",
       "      <td>http://www.funda.nl/koop/amsterdam/appartement...</td>\n",
       "      <td>132.500</td>\n",
       "      <td>1</td>\n",
       "      <td>1065 LX</td>\n",
       "      <td>1</td>\n",
       "      <td>Jan Muschstraat 8</td>\n",
       "      <td>apartment</td>\n",
       "    </tr>\n",
       "    <tr>\n",
       "      <th>1</th>\n",
       "      <td>1990</td>\n",
       "      <td>79</td>\n",
       "      <td>http://www.funda.nl/koop/amsterdam/appartement...</td>\n",
       "      <td>300.000</td>\n",
       "      <td>1</td>\n",
       "      <td>1019 HT</td>\n",
       "      <td>2</td>\n",
       "      <td>Zeeburgerkade 738 +PP</td>\n",
       "      <td>apartment</td>\n",
       "    </tr>\n",
       "    <tr>\n",
       "      <th>2</th>\n",
       "      <td>1906</td>\n",
       "      <td>93</td>\n",
       "      <td>http://www.funda.nl/koop/amsterdam/appartement...</td>\n",
       "      <td>550.000</td>\n",
       "      <td>3</td>\n",
       "      <td>1051 GT</td>\n",
       "      <td>4</td>\n",
       "      <td>Cliffordstraat 22 -HUIS</td>\n",
       "      <td>apartment</td>\n",
       "    </tr>\n",
       "    <tr>\n",
       "      <th>3</th>\n",
       "      <td>2002</td>\n",
       "      <td>90</td>\n",
       "      <td>http://www.funda.nl/koop/amsterdam/appartement...</td>\n",
       "      <td>318.500</td>\n",
       "      <td>2</td>\n",
       "      <td>1095 LG</td>\n",
       "      <td>3</td>\n",
       "      <td>Zeeburgerdijk 768</td>\n",
       "      <td>apartment</td>\n",
       "    </tr>\n",
       "    <tr>\n",
       "      <th>4</th>\n",
       "      <td>1904</td>\n",
       "      <td>142</td>\n",
       "      <td>http://www.funda.nl/koop/amsterdam/huis-497973...</td>\n",
       "      <td>475.000</td>\n",
       "      <td>3</td>\n",
       "      <td>1035 PS</td>\n",
       "      <td>6</td>\n",
       "      <td>Landsmeerderdijk 47</td>\n",
       "      <td>house</td>\n",
       "    </tr>\n",
       "  </tbody>\n",
       "</table>\n",
       "</div>"
      ],
      "text/plain": [
       "  year_built area                                                url    price  \\\n",
       "0       1984   31  http://www.funda.nl/koop/amsterdam/appartement...  132.500   \n",
       "1       1990   79  http://www.funda.nl/koop/amsterdam/appartement...  300.000   \n",
       "2       1906   93  http://www.funda.nl/koop/amsterdam/appartement...  550.000   \n",
       "3       2002   90  http://www.funda.nl/koop/amsterdam/appartement...  318.500   \n",
       "4       1904  142  http://www.funda.nl/koop/amsterdam/huis-497973...  475.000   \n",
       "\n",
       "  bedrooms postal_code rooms                  address property_type  \n",
       "0        1     1065 LX     1        Jan Muschstraat 8     apartment  \n",
       "1        1     1019 HT     2    Zeeburgerkade 738 +PP     apartment  \n",
       "2        3     1051 GT     4  Cliffordstraat 22 -HUIS     apartment  \n",
       "3        2     1095 LG     3        Zeeburgerdijk 768     apartment  \n",
       "4        3     1035 PS     6      Landsmeerderdijk 47         house  "
      ]
     },
     "execution_count": 3,
     "metadata": {},
     "output_type": "execute_result"
    }
   ],
   "source": [
    "ams_1.head()"
   ]
  },
  {
   "cell_type": "code",
   "execution_count": 4,
   "id": "c52aec5b",
   "metadata": {},
   "outputs": [
    {
     "data": {
      "text/plain": [
       "(2769, 9)"
      ]
     },
     "execution_count": 4,
     "metadata": {},
     "output_type": "execute_result"
    }
   ],
   "source": [
    "ams_1.shape"
   ]
  },
  {
   "cell_type": "code",
   "execution_count": 5,
   "id": "da75f73b",
   "metadata": {},
   "outputs": [],
   "source": [
    "ams_1[\"price\"] = ams_1[\"price\"].astype(str)"
   ]
  },
  {
   "cell_type": "code",
   "execution_count": 6,
   "id": "4c72f3c2",
   "metadata": {},
   "outputs": [],
   "source": [
    "ams_1[\"len\"] = ams_1[\"price\"].apply(lambda x: len(x))"
   ]
  },
  {
   "cell_type": "code",
   "execution_count": 7,
   "id": "3f306090",
   "metadata": {},
   "outputs": [],
   "source": [
    "ams_1[\"price\"] = ams_1[\"price\"].apply(lambda x: x + \"000\" if len(x) ==5 else x)"
   ]
  },
  {
   "cell_type": "code",
   "execution_count": 8,
   "id": "4d7a2af1",
   "metadata": {},
   "outputs": [],
   "source": [
    "ams_1[\"price\"] = ams_1[\"price\"].apply(lambda x: x + \"0\" if len(x) ==6 else x)"
   ]
  },
  {
   "cell_type": "code",
   "execution_count": 9,
   "id": "6bb30966",
   "metadata": {},
   "outputs": [
    {
     "name": "stderr",
     "output_type": "stream",
     "text": [
      "C:\\Users\\TL\\AppData\\Local\\Temp/ipykernel_3572/574544986.py:1: SettingWithCopyWarning: \n",
      "A value is trying to be set on a copy of a slice from a DataFrame\n",
      "\n",
      "See the caveats in the documentation: https://pandas.pydata.org/pandas-docs/stable/user_guide/indexing.html#returning-a-view-versus-a-copy\n",
      "  ams_1[\"price\"][60] = ams_1[\"price\"][60] + \"0\"\n"
     ]
    }
   ],
   "source": [
    "ams_1[\"price\"][60] = ams_1[\"price\"][60] + \"0\""
   ]
  },
  {
   "cell_type": "code",
   "execution_count": 10,
   "id": "8a581513",
   "metadata": {},
   "outputs": [
    {
     "name": "stderr",
     "output_type": "stream",
     "text": [
      "C:\\Users\\TL\\AppData\\Local\\Temp/ipykernel_3572/61898818.py:1: SettingWithCopyWarning: \n",
      "A value is trying to be set on a copy of a slice from a DataFrame\n",
      "\n",
      "See the caveats in the documentation: https://pandas.pydata.org/pandas-docs/stable/user_guide/indexing.html#returning-a-view-versus-a-copy\n",
      "  ams_1[\"price\"][132] = ams_1[\"price\"][132] + \"0\"\n"
     ]
    }
   ],
   "source": [
    "ams_1[\"price\"][132] = ams_1[\"price\"][132] + \"0\""
   ]
  },
  {
   "cell_type": "code",
   "execution_count": 11,
   "id": "10b21f66",
   "metadata": {},
   "outputs": [
    {
     "name": "stderr",
     "output_type": "stream",
     "text": [
      "C:\\Users\\TL\\AppData\\Local\\Temp/ipykernel_3572/1854686871.py:1: SettingWithCopyWarning: \n",
      "A value is trying to be set on a copy of a slice from a DataFrame\n",
      "\n",
      "See the caveats in the documentation: https://pandas.pydata.org/pandas-docs/stable/user_guide/indexing.html#returning-a-view-versus-a-copy\n",
      "  ams_1[\"price\"][1492] = ams_1[\"price\"][1492] + \"0\"\n"
     ]
    }
   ],
   "source": [
    "ams_1[\"price\"][1492] = ams_1[\"price\"][1492] + \"0\""
   ]
  },
  {
   "cell_type": "code",
   "execution_count": 12,
   "id": "c4b7a7dd",
   "metadata": {},
   "outputs": [
    {
     "name": "stderr",
     "output_type": "stream",
     "text": [
      "C:\\Users\\TL\\AppData\\Local\\Temp/ipykernel_3572/3280957497.py:1: SettingWithCopyWarning: \n",
      "A value is trying to be set on a copy of a slice from a DataFrame\n",
      "\n",
      "See the caveats in the documentation: https://pandas.pydata.org/pandas-docs/stable/user_guide/indexing.html#returning-a-view-versus-a-copy\n",
      "  ams_1[\"price\"][1816] = ams_1[\"price\"][1816] + \"0\"\n"
     ]
    }
   ],
   "source": [
    "ams_1[\"price\"][1816] = ams_1[\"price\"][1816] + \"0\""
   ]
  },
  {
   "cell_type": "code",
   "execution_count": 13,
   "id": "3e865186",
   "metadata": {},
   "outputs": [
    {
     "data": {
      "text/html": [
       "<div>\n",
       "<style scoped>\n",
       "    .dataframe tbody tr th:only-of-type {\n",
       "        vertical-align: middle;\n",
       "    }\n",
       "\n",
       "    .dataframe tbody tr th {\n",
       "        vertical-align: top;\n",
       "    }\n",
       "\n",
       "    .dataframe thead th {\n",
       "        text-align: right;\n",
       "    }\n",
       "</style>\n",
       "<table border=\"1\" class=\"dataframe\">\n",
       "  <thead>\n",
       "    <tr style=\"text-align: right;\">\n",
       "      <th></th>\n",
       "      <th>year_built</th>\n",
       "      <th>area</th>\n",
       "      <th>url</th>\n",
       "      <th>price</th>\n",
       "      <th>bedrooms</th>\n",
       "      <th>postal_code</th>\n",
       "      <th>rooms</th>\n",
       "      <th>address</th>\n",
       "      <th>property_type</th>\n",
       "      <th>len</th>\n",
       "    </tr>\n",
       "  </thead>\n",
       "  <tbody>\n",
       "    <tr>\n",
       "      <th>39</th>\n",
       "      <td>1985</td>\n",
       "      <td>43</td>\n",
       "      <td>http://www.funda.nl/koop/amsterdam/appartement...</td>\n",
       "      <td>95.0000</td>\n",
       "      <td>1</td>\n",
       "      <td>1104 MN</td>\n",
       "      <td>2</td>\n",
       "      <td>Kloekhorststraat 207</td>\n",
       "      <td>apartment</td>\n",
       "      <td>6</td>\n",
       "    </tr>\n",
       "    <tr>\n",
       "      <th>60</th>\n",
       "      <td>1899</td>\n",
       "      <td>572</td>\n",
       "      <td>http://www.funda.nl/koop/amsterdam/huis-498757...</td>\n",
       "      <td>11.75000</td>\n",
       "      <td>8</td>\n",
       "      <td>1071 GK</td>\n",
       "      <td>16</td>\n",
       "      <td>Van Eeghenstraat 80 *</td>\n",
       "      <td>house</td>\n",
       "      <td>6</td>\n",
       "    </tr>\n",
       "    <tr>\n",
       "      <th>132</th>\n",
       "      <td>1899</td>\n",
       "      <td>572</td>\n",
       "      <td>http://www.funda.nl/koop/amsterdam/huis-498758...</td>\n",
       "      <td>11.75000</td>\n",
       "      <td>6</td>\n",
       "      <td>1071 GK</td>\n",
       "      <td>16</td>\n",
       "      <td>Van Eeghenstraat 80</td>\n",
       "      <td>house</td>\n",
       "      <td>6</td>\n",
       "    </tr>\n",
       "    <tr>\n",
       "      <th>303</th>\n",
       "      <td>1985</td>\n",
       "      <td>29</td>\n",
       "      <td>http://www.funda.nl/koop/amsterdam/appartement...</td>\n",
       "      <td>95.0000</td>\n",
       "      <td>1</td>\n",
       "      <td>1102 ZK</td>\n",
       "      <td>1</td>\n",
       "      <td>Daniël Defoelaan 74</td>\n",
       "      <td>apartment</td>\n",
       "      <td>6</td>\n",
       "    </tr>\n",
       "    <tr>\n",
       "      <th>492</th>\n",
       "      <td>1984</td>\n",
       "      <td>29</td>\n",
       "      <td>http://www.funda.nl/koop/amsterdam/appartement...</td>\n",
       "      <td>87.5000</td>\n",
       "      <td>1</td>\n",
       "      <td>1102 WZ</td>\n",
       "      <td>2</td>\n",
       "      <td>Dalsteindreef 312</td>\n",
       "      <td>apartment</td>\n",
       "      <td>6</td>\n",
       "    </tr>\n",
       "    <tr>\n",
       "      <th>1108</th>\n",
       "      <td>1984</td>\n",
       "      <td>45</td>\n",
       "      <td>http://www.funda.nl/koop/amsterdam/appartement...</td>\n",
       "      <td>99.9000</td>\n",
       "      <td>1</td>\n",
       "      <td>1104 MK</td>\n",
       "      <td>2</td>\n",
       "      <td>Kloekhorststraat 57</td>\n",
       "      <td>apartment</td>\n",
       "      <td>6</td>\n",
       "    </tr>\n",
       "    <tr>\n",
       "      <th>1492</th>\n",
       "      <td>2017</td>\n",
       "      <td>1</td>\n",
       "      <td>http://www.funda.nl/koop/amsterdam/appartement...</td>\n",
       "      <td>24.50000</td>\n",
       "      <td>7</td>\n",
       "      <td>1012 JS</td>\n",
       "      <td>15</td>\n",
       "      <td>Dam 3 D</td>\n",
       "      <td>apartment</td>\n",
       "      <td>6</td>\n",
       "    </tr>\n",
       "    <tr>\n",
       "      <th>1791</th>\n",
       "      <td>1968</td>\n",
       "      <td>28</td>\n",
       "      <td>http://www.funda.nl/koop/amsterdam/appartement...</td>\n",
       "      <td>99.0000</td>\n",
       "      <td>1</td>\n",
       "      <td>1025 ZX</td>\n",
       "      <td>1</td>\n",
       "      <td>Amerbos 396</td>\n",
       "      <td>apartment</td>\n",
       "      <td>6</td>\n",
       "    </tr>\n",
       "    <tr>\n",
       "      <th>1816</th>\n",
       "      <td>1687</td>\n",
       "      <td>1</td>\n",
       "      <td>http://www.funda.nl/koop/amsterdam/huis-498768...</td>\n",
       "      <td>14.95000</td>\n",
       "      <td>18</td>\n",
       "      <td>1017 CC</td>\n",
       "      <td>37</td>\n",
       "      <td>Herengracht 518 + Keizersgracht 633 + P</td>\n",
       "      <td>house</td>\n",
       "      <td>6</td>\n",
       "    </tr>\n",
       "    <tr>\n",
       "      <th>1907</th>\n",
       "      <td>1974</td>\n",
       "      <td>55</td>\n",
       "      <td>http://www.funda.nl/koop/amsterdam/appartement...</td>\n",
       "      <td>95.0000</td>\n",
       "      <td>1</td>\n",
       "      <td>1103 KZ</td>\n",
       "      <td>2</td>\n",
       "      <td>Gouden Leeuw 1022</td>\n",
       "      <td>apartment</td>\n",
       "      <td>6</td>\n",
       "    </tr>\n",
       "    <tr>\n",
       "      <th>1955</th>\n",
       "      <td>1984</td>\n",
       "      <td>34</td>\n",
       "      <td>http://www.funda.nl/koop/amsterdam/appartement...</td>\n",
       "      <td>90.0000</td>\n",
       "      <td>1</td>\n",
       "      <td>1102 ZR</td>\n",
       "      <td>1</td>\n",
       "      <td>Dantestraat 144</td>\n",
       "      <td>apartment</td>\n",
       "      <td>6</td>\n",
       "    </tr>\n",
       "    <tr>\n",
       "      <th>2023</th>\n",
       "      <td>1983</td>\n",
       "      <td>33</td>\n",
       "      <td>http://www.funda.nl/koop/amsterdam/appartement...</td>\n",
       "      <td>85.0000</td>\n",
       "      <td>1</td>\n",
       "      <td>1107 JJ</td>\n",
       "      <td>1</td>\n",
       "      <td>Schelluinenstraat 60 A</td>\n",
       "      <td>apartment</td>\n",
       "      <td>6</td>\n",
       "    </tr>\n",
       "    <tr>\n",
       "      <th>2089</th>\n",
       "      <td>1968</td>\n",
       "      <td>35</td>\n",
       "      <td>http://www.funda.nl/koop/amsterdam/appartement...</td>\n",
       "      <td>89.5000</td>\n",
       "      <td>1</td>\n",
       "      <td>1025 ZN</td>\n",
       "      <td>1</td>\n",
       "      <td>Amerbos 76</td>\n",
       "      <td>apartment</td>\n",
       "      <td>6</td>\n",
       "    </tr>\n",
       "    <tr>\n",
       "      <th>2119</th>\n",
       "      <td>1983</td>\n",
       "      <td>29</td>\n",
       "      <td>http://www.funda.nl/koop/amsterdam/appartement...</td>\n",
       "      <td>87.5000</td>\n",
       "      <td>1</td>\n",
       "      <td>1102 XZ</td>\n",
       "      <td>1</td>\n",
       "      <td>Chestertonlaan 22</td>\n",
       "      <td>apartment</td>\n",
       "      <td>6</td>\n",
       "    </tr>\n",
       "    <tr>\n",
       "      <th>2307</th>\n",
       "      <td>1984</td>\n",
       "      <td>53</td>\n",
       "      <td>http://www.funda.nl/koop/amsterdam/appartement...</td>\n",
       "      <td>89.0000</td>\n",
       "      <td>1</td>\n",
       "      <td>1107 RC</td>\n",
       "      <td>1</td>\n",
       "      <td>Tielstraat 85</td>\n",
       "      <td>apartment</td>\n",
       "      <td>6</td>\n",
       "    </tr>\n",
       "    <tr>\n",
       "      <th>2708</th>\n",
       "      <td>1967</td>\n",
       "      <td>95</td>\n",
       "      <td>http://www.funda.nl/koop/amsterdam/appartement...</td>\n",
       "      <td>80.0000</td>\n",
       "      <td>2</td>\n",
       "      <td>1024 AC</td>\n",
       "      <td>3</td>\n",
       "      <td>Jisperveldstraat 63</td>\n",
       "      <td>apartment</td>\n",
       "      <td>6</td>\n",
       "    </tr>\n",
       "  </tbody>\n",
       "</table>\n",
       "</div>"
      ],
      "text/plain": [
       "     year_built area                                                url  \\\n",
       "39         1985   43  http://www.funda.nl/koop/amsterdam/appartement...   \n",
       "60         1899  572  http://www.funda.nl/koop/amsterdam/huis-498757...   \n",
       "132        1899  572  http://www.funda.nl/koop/amsterdam/huis-498758...   \n",
       "303        1985   29  http://www.funda.nl/koop/amsterdam/appartement...   \n",
       "492        1984   29  http://www.funda.nl/koop/amsterdam/appartement...   \n",
       "1108       1984   45  http://www.funda.nl/koop/amsterdam/appartement...   \n",
       "1492       2017    1  http://www.funda.nl/koop/amsterdam/appartement...   \n",
       "1791       1968   28  http://www.funda.nl/koop/amsterdam/appartement...   \n",
       "1816       1687    1  http://www.funda.nl/koop/amsterdam/huis-498768...   \n",
       "1907       1974   55  http://www.funda.nl/koop/amsterdam/appartement...   \n",
       "1955       1984   34  http://www.funda.nl/koop/amsterdam/appartement...   \n",
       "2023       1983   33  http://www.funda.nl/koop/amsterdam/appartement...   \n",
       "2089       1968   35  http://www.funda.nl/koop/amsterdam/appartement...   \n",
       "2119       1983   29  http://www.funda.nl/koop/amsterdam/appartement...   \n",
       "2307       1984   53  http://www.funda.nl/koop/amsterdam/appartement...   \n",
       "2708       1967   95  http://www.funda.nl/koop/amsterdam/appartement...   \n",
       "\n",
       "         price bedrooms postal_code rooms  \\\n",
       "39     95.0000        1     1104 MN     2   \n",
       "60    11.75000        8     1071 GK    16   \n",
       "132   11.75000        6     1071 GK    16   \n",
       "303    95.0000        1     1102 ZK     1   \n",
       "492    87.5000        1     1102 WZ     2   \n",
       "1108   99.9000        1     1104 MK     2   \n",
       "1492  24.50000        7     1012 JS    15   \n",
       "1791   99.0000        1     1025 ZX     1   \n",
       "1816  14.95000       18     1017 CC    37   \n",
       "1907   95.0000        1     1103 KZ     2   \n",
       "1955   90.0000        1     1102 ZR     1   \n",
       "2023   85.0000        1     1107 JJ     1   \n",
       "2089   89.5000        1     1025 ZN     1   \n",
       "2119   87.5000        1     1102 XZ     1   \n",
       "2307   89.0000        1     1107 RC     1   \n",
       "2708   80.0000        2     1024 AC     3   \n",
       "\n",
       "                                      address property_type  len  \n",
       "39                       Kloekhorststraat 207     apartment    6  \n",
       "60                      Van Eeghenstraat 80 *         house    6  \n",
       "132                       Van Eeghenstraat 80         house    6  \n",
       "303                       Daniël Defoelaan 74     apartment    6  \n",
       "492                         Dalsteindreef 312     apartment    6  \n",
       "1108                      Kloekhorststraat 57     apartment    6  \n",
       "1492                                  Dam 3 D     apartment    6  \n",
       "1791                              Amerbos 396     apartment    6  \n",
       "1816  Herengracht 518 + Keizersgracht 633 + P         house    6  \n",
       "1907                        Gouden Leeuw 1022     apartment    6  \n",
       "1955                          Dantestraat 144     apartment    6  \n",
       "2023                   Schelluinenstraat 60 A     apartment    6  \n",
       "2089                               Amerbos 76     apartment    6  \n",
       "2119                        Chestertonlaan 22     apartment    6  \n",
       "2307                            Tielstraat 85     apartment    6  \n",
       "2708                      Jisperveldstraat 63     apartment    6  "
      ]
     },
     "execution_count": 13,
     "metadata": {},
     "output_type": "execute_result"
    }
   ],
   "source": [
    "ams_1[ams_1[\"len\"]==6]"
   ]
  },
  {
   "cell_type": "code",
   "execution_count": 14,
   "id": "a9488b7f",
   "metadata": {},
   "outputs": [],
   "source": [
    "ams_1[\"price\"] = ams_1[\"price\"].apply(lambda x:x.replace(\".\",\"\"))"
   ]
  },
  {
   "cell_type": "code",
   "execution_count": 15,
   "id": "33f546b2",
   "metadata": {},
   "outputs": [],
   "source": [
    "ams_1[\"price\"] = ams_1[\"price\"].astype(int)"
   ]
  },
  {
   "cell_type": "code",
   "execution_count": 16,
   "id": "a56b4b4f",
   "metadata": {},
   "outputs": [
    {
     "data": {
      "text/html": [
       "<div>\n",
       "<style scoped>\n",
       "    .dataframe tbody tr th:only-of-type {\n",
       "        vertical-align: middle;\n",
       "    }\n",
       "\n",
       "    .dataframe tbody tr th {\n",
       "        vertical-align: top;\n",
       "    }\n",
       "\n",
       "    .dataframe thead th {\n",
       "        text-align: right;\n",
       "    }\n",
       "</style>\n",
       "<table border=\"1\" class=\"dataframe\">\n",
       "  <thead>\n",
       "    <tr style=\"text-align: right;\">\n",
       "      <th></th>\n",
       "      <th>year_built</th>\n",
       "      <th>area</th>\n",
       "      <th>url</th>\n",
       "      <th>price</th>\n",
       "      <th>bedrooms</th>\n",
       "      <th>postal_code</th>\n",
       "      <th>rooms</th>\n",
       "      <th>address</th>\n",
       "      <th>property_type</th>\n",
       "      <th>len</th>\n",
       "    </tr>\n",
       "  </thead>\n",
       "  <tbody>\n",
       "    <tr>\n",
       "      <th>0</th>\n",
       "      <td>1984</td>\n",
       "      <td>31</td>\n",
       "      <td>http://www.funda.nl/koop/amsterdam/appartement...</td>\n",
       "      <td>132500</td>\n",
       "      <td>1</td>\n",
       "      <td>1065 LX</td>\n",
       "      <td>1</td>\n",
       "      <td>Jan Muschstraat 8</td>\n",
       "      <td>apartment</td>\n",
       "      <td>7</td>\n",
       "    </tr>\n",
       "    <tr>\n",
       "      <th>1</th>\n",
       "      <td>1990</td>\n",
       "      <td>79</td>\n",
       "      <td>http://www.funda.nl/koop/amsterdam/appartement...</td>\n",
       "      <td>300000</td>\n",
       "      <td>1</td>\n",
       "      <td>1019 HT</td>\n",
       "      <td>2</td>\n",
       "      <td>Zeeburgerkade 738 +PP</td>\n",
       "      <td>apartment</td>\n",
       "      <td>7</td>\n",
       "    </tr>\n",
       "    <tr>\n",
       "      <th>2</th>\n",
       "      <td>1906</td>\n",
       "      <td>93</td>\n",
       "      <td>http://www.funda.nl/koop/amsterdam/appartement...</td>\n",
       "      <td>550000</td>\n",
       "      <td>3</td>\n",
       "      <td>1051 GT</td>\n",
       "      <td>4</td>\n",
       "      <td>Cliffordstraat 22 -HUIS</td>\n",
       "      <td>apartment</td>\n",
       "      <td>7</td>\n",
       "    </tr>\n",
       "    <tr>\n",
       "      <th>3</th>\n",
       "      <td>2002</td>\n",
       "      <td>90</td>\n",
       "      <td>http://www.funda.nl/koop/amsterdam/appartement...</td>\n",
       "      <td>318500</td>\n",
       "      <td>2</td>\n",
       "      <td>1095 LG</td>\n",
       "      <td>3</td>\n",
       "      <td>Zeeburgerdijk 768</td>\n",
       "      <td>apartment</td>\n",
       "      <td>7</td>\n",
       "    </tr>\n",
       "    <tr>\n",
       "      <th>4</th>\n",
       "      <td>1904</td>\n",
       "      <td>142</td>\n",
       "      <td>http://www.funda.nl/koop/amsterdam/huis-497973...</td>\n",
       "      <td>475000</td>\n",
       "      <td>3</td>\n",
       "      <td>1035 PS</td>\n",
       "      <td>6</td>\n",
       "      <td>Landsmeerderdijk 47</td>\n",
       "      <td>house</td>\n",
       "      <td>7</td>\n",
       "    </tr>\n",
       "  </tbody>\n",
       "</table>\n",
       "</div>"
      ],
      "text/plain": [
       "  year_built area                                                url   price  \\\n",
       "0       1984   31  http://www.funda.nl/koop/amsterdam/appartement...  132500   \n",
       "1       1990   79  http://www.funda.nl/koop/amsterdam/appartement...  300000   \n",
       "2       1906   93  http://www.funda.nl/koop/amsterdam/appartement...  550000   \n",
       "3       2002   90  http://www.funda.nl/koop/amsterdam/appartement...  318500   \n",
       "4       1904  142  http://www.funda.nl/koop/amsterdam/huis-497973...  475000   \n",
       "\n",
       "  bedrooms postal_code rooms                  address property_type  len  \n",
       "0        1     1065 LX     1        Jan Muschstraat 8     apartment    7  \n",
       "1        1     1019 HT     2    Zeeburgerkade 738 +PP     apartment    7  \n",
       "2        3     1051 GT     4  Cliffordstraat 22 -HUIS     apartment    7  \n",
       "3        2     1095 LG     3        Zeeburgerdijk 768     apartment    7  \n",
       "4        3     1035 PS     6      Landsmeerderdijk 47         house    7  "
      ]
     },
     "execution_count": 16,
     "metadata": {},
     "output_type": "execute_result"
    }
   ],
   "source": [
    "ams_1.head()"
   ]
  },
  {
   "cell_type": "code",
   "execution_count": 17,
   "id": "f3ced6a6",
   "metadata": {},
   "outputs": [],
   "source": [
    "ams_2 = pd.read_json('Amsterdam_2(2770).json')"
   ]
  },
  {
   "cell_type": "code",
   "execution_count": 18,
   "id": "7f0328cd",
   "metadata": {},
   "outputs": [],
   "source": [
    "ams_2 = ams_2.drop(\"city\", axis = 1)"
   ]
  },
  {
   "cell_type": "code",
   "execution_count": 19,
   "id": "1c27ad28",
   "metadata": {},
   "outputs": [
    {
     "data": {
      "text/plain": [
       "(2768, 9)"
      ]
     },
     "execution_count": 19,
     "metadata": {},
     "output_type": "execute_result"
    }
   ],
   "source": [
    "ams_2.shape"
   ]
  },
  {
   "cell_type": "code",
   "execution_count": 20,
   "id": "e3460fba",
   "metadata": {},
   "outputs": [],
   "source": [
    "ams_2[\"price\"] = ams_2[\"price\"].astype(str)"
   ]
  },
  {
   "cell_type": "code",
   "execution_count": 21,
   "id": "67f851e2",
   "metadata": {},
   "outputs": [],
   "source": [
    "ams_2[\"len\"] = ams_2[\"price\"].apply(lambda x: len(x))"
   ]
  },
  {
   "cell_type": "code",
   "execution_count": 22,
   "id": "52c1b10f",
   "metadata": {},
   "outputs": [
    {
     "data": {
      "text/html": [
       "<div>\n",
       "<style scoped>\n",
       "    .dataframe tbody tr th:only-of-type {\n",
       "        vertical-align: middle;\n",
       "    }\n",
       "\n",
       "    .dataframe tbody tr th {\n",
       "        vertical-align: top;\n",
       "    }\n",
       "\n",
       "    .dataframe thead th {\n",
       "        text-align: right;\n",
       "    }\n",
       "</style>\n",
       "<table border=\"1\" class=\"dataframe\">\n",
       "  <thead>\n",
       "    <tr style=\"text-align: right;\">\n",
       "      <th></th>\n",
       "      <th>year_built</th>\n",
       "      <th>area</th>\n",
       "      <th>url</th>\n",
       "      <th>price</th>\n",
       "      <th>bedrooms</th>\n",
       "      <th>postal_code</th>\n",
       "      <th>rooms</th>\n",
       "      <th>address</th>\n",
       "      <th>property_type</th>\n",
       "      <th>len</th>\n",
       "    </tr>\n",
       "  </thead>\n",
       "  <tbody>\n",
       "    <tr>\n",
       "      <th>0</th>\n",
       "      <td>1720</td>\n",
       "      <td>88</td>\n",
       "      <td>http://www.funda.nl/koop/amsterdam/appartement...</td>\n",
       "      <td>425000</td>\n",
       "      <td>2</td>\n",
       "      <td>1018 MR</td>\n",
       "      <td>3</td>\n",
       "      <td>Oostenburgervoorstraat 246</td>\n",
       "      <td>apartment</td>\n",
       "      <td>6</td>\n",
       "    </tr>\n",
       "    <tr>\n",
       "      <th>1</th>\n",
       "      <td>1904</td>\n",
       "      <td>142</td>\n",
       "      <td>http://www.funda.nl/koop/amsterdam/huis-497973...</td>\n",
       "      <td>475000</td>\n",
       "      <td>3</td>\n",
       "      <td>1035 PS</td>\n",
       "      <td>6</td>\n",
       "      <td>Landsmeerderdijk 47</td>\n",
       "      <td>house</td>\n",
       "      <td>6</td>\n",
       "    </tr>\n",
       "    <tr>\n",
       "      <th>2</th>\n",
       "      <td>1995</td>\n",
       "      <td>88</td>\n",
       "      <td>http://www.funda.nl/koop/amsterdam/appartement...</td>\n",
       "      <td>469000</td>\n",
       "      <td>2</td>\n",
       "      <td>1019 LG</td>\n",
       "      <td>3</td>\n",
       "      <td>KNSM-laan 519</td>\n",
       "      <td>apartment</td>\n",
       "      <td>6</td>\n",
       "    </tr>\n",
       "    <tr>\n",
       "      <th>3</th>\n",
       "      <td>1956</td>\n",
       "      <td>69</td>\n",
       "      <td>http://www.funda.nl/koop/amsterdam/appartement...</td>\n",
       "      <td>200000</td>\n",
       "      <td>3</td>\n",
       "      <td>1065 TP</td>\n",
       "      <td>4</td>\n",
       "      <td>Ariana Nozemanstraat 5 II</td>\n",
       "      <td>apartment</td>\n",
       "      <td>6</td>\n",
       "    </tr>\n",
       "    <tr>\n",
       "      <th>4</th>\n",
       "      <td>1984</td>\n",
       "      <td>72</td>\n",
       "      <td>http://www.funda.nl/koop/amsterdam/appartement...</td>\n",
       "      <td>125000</td>\n",
       "      <td>2</td>\n",
       "      <td>1104 PA</td>\n",
       "      <td>3</td>\n",
       "      <td>Kolfschotenstraat 56</td>\n",
       "      <td>apartment</td>\n",
       "      <td>6</td>\n",
       "    </tr>\n",
       "  </tbody>\n",
       "</table>\n",
       "</div>"
      ],
      "text/plain": [
       "   year_built  area                                                url  \\\n",
       "0        1720    88  http://www.funda.nl/koop/amsterdam/appartement...   \n",
       "1        1904   142  http://www.funda.nl/koop/amsterdam/huis-497973...   \n",
       "2        1995    88  http://www.funda.nl/koop/amsterdam/appartement...   \n",
       "3        1956    69  http://www.funda.nl/koop/amsterdam/appartement...   \n",
       "4        1984    72  http://www.funda.nl/koop/amsterdam/appartement...   \n",
       "\n",
       "    price  bedrooms postal_code  rooms                     address  \\\n",
       "0  425000         2     1018 MR      3  Oostenburgervoorstraat 246   \n",
       "1  475000         3     1035 PS      6         Landsmeerderdijk 47   \n",
       "2  469000         2     1019 LG      3               KNSM-laan 519   \n",
       "3  200000         3     1065 TP      4   Ariana Nozemanstraat 5 II   \n",
       "4  125000         2     1104 PA      3        Kolfschotenstraat 56   \n",
       "\n",
       "  property_type  len  \n",
       "0     apartment    6  \n",
       "1         house    6  \n",
       "2     apartment    6  \n",
       "3     apartment    6  \n",
       "4     apartment    6  "
      ]
     },
     "execution_count": 22,
     "metadata": {},
     "output_type": "execute_result"
    }
   ],
   "source": [
    "ams_2.head()"
   ]
  },
  {
   "cell_type": "code",
   "execution_count": 23,
   "id": "da43f8bb",
   "metadata": {},
   "outputs": [],
   "source": [
    "ams_2[\"price\"] = ams_2[\"price\"].apply(lambda x: x + \"0\" if len(x) ==5 else x)"
   ]
  },
  {
   "cell_type": "code",
   "execution_count": 24,
   "id": "8b21101c",
   "metadata": {},
   "outputs": [],
   "source": [
    "ams_2[\"price\"] = ams_2[\"price\"].apply(lambda x: x + \"000\" if len(x) ==4 else x)"
   ]
  },
  {
   "cell_type": "code",
   "execution_count": 25,
   "id": "0d90e52d",
   "metadata": {},
   "outputs": [
    {
     "name": "stderr",
     "output_type": "stream",
     "text": [
      "C:\\Users\\TL\\AppData\\Local\\Temp/ipykernel_3572/882002153.py:1: SettingWithCopyWarning: \n",
      "A value is trying to be set on a copy of a slice from a DataFrame\n",
      "\n",
      "See the caveats in the documentation: https://pandas.pydata.org/pandas-docs/stable/user_guide/indexing.html#returning-a-view-versus-a-copy\n",
      "  ams_2[\"price\"][39] = ams_2[\"price\"][39] + \"0\"\n"
     ]
    }
   ],
   "source": [
    "ams_2[\"price\"][39] = ams_2[\"price\"][39] + \"0\""
   ]
  },
  {
   "cell_type": "code",
   "execution_count": 26,
   "id": "155bd6b2",
   "metadata": {},
   "outputs": [
    {
     "name": "stderr",
     "output_type": "stream",
     "text": [
      "C:\\Users\\TL\\AppData\\Local\\Temp/ipykernel_3572/3923837466.py:1: SettingWithCopyWarning: \n",
      "A value is trying to be set on a copy of a slice from a DataFrame\n",
      "\n",
      "See the caveats in the documentation: https://pandas.pydata.org/pandas-docs/stable/user_guide/indexing.html#returning-a-view-versus-a-copy\n",
      "  ams_2[\"price\"][151] = ams_2[\"price\"][151] + \"0\"\n"
     ]
    }
   ],
   "source": [
    "ams_2[\"price\"][151] = ams_2[\"price\"][151] + \"0\""
   ]
  },
  {
   "cell_type": "code",
   "execution_count": 27,
   "id": "8e7ddbc7",
   "metadata": {},
   "outputs": [
    {
     "name": "stderr",
     "output_type": "stream",
     "text": [
      "C:\\Users\\TL\\AppData\\Local\\Temp/ipykernel_3572/3325377163.py:1: SettingWithCopyWarning: \n",
      "A value is trying to be set on a copy of a slice from a DataFrame\n",
      "\n",
      "See the caveats in the documentation: https://pandas.pydata.org/pandas-docs/stable/user_guide/indexing.html#returning-a-view-versus-a-copy\n",
      "  ams_2[\"price\"][1515] = ams_2[\"price\"][1515] + \"0\"\n"
     ]
    }
   ],
   "source": [
    "ams_2[\"price\"][1515] = ams_2[\"price\"][1515] + \"0\""
   ]
  },
  {
   "cell_type": "code",
   "execution_count": 28,
   "id": "cff590ac",
   "metadata": {},
   "outputs": [
    {
     "name": "stderr",
     "output_type": "stream",
     "text": [
      "C:\\Users\\TL\\AppData\\Local\\Temp/ipykernel_3572/1399415967.py:1: SettingWithCopyWarning: \n",
      "A value is trying to be set on a copy of a slice from a DataFrame\n",
      "\n",
      "See the caveats in the documentation: https://pandas.pydata.org/pandas-docs/stable/user_guide/indexing.html#returning-a-view-versus-a-copy\n",
      "  ams_2[\"price\"][1776] = ams_2[\"price\"][1776] + \"0\"\n"
     ]
    }
   ],
   "source": [
    "ams_2[\"price\"][1776] = ams_2[\"price\"][1776] + \"0\""
   ]
  },
  {
   "cell_type": "code",
   "execution_count": 29,
   "id": "4763306b",
   "metadata": {},
   "outputs": [],
   "source": [
    "ams_2[\"price\"] = ams_2[\"price\"].astype(int)"
   ]
  },
  {
   "cell_type": "code",
   "execution_count": null,
   "id": "d8c23a03",
   "metadata": {},
   "outputs": [],
   "source": []
  },
  {
   "cell_type": "code",
   "execution_count": 30,
   "id": "5611c24e",
   "metadata": {},
   "outputs": [],
   "source": [
    "ams_3 = pd.read_json(\"Amsterdam_3(2770).json\")"
   ]
  },
  {
   "cell_type": "code",
   "execution_count": 31,
   "id": "7dcbbc02",
   "metadata": {},
   "outputs": [],
   "source": [
    "ams_3 = ams_3.drop([\"sale_date\", \"posting_date\"], axis=1)"
   ]
  },
  {
   "cell_type": "code",
   "execution_count": 32,
   "id": "4a4b3c61",
   "metadata": {},
   "outputs": [
    {
     "data": {
      "text/html": [
       "<div>\n",
       "<style scoped>\n",
       "    .dataframe tbody tr th:only-of-type {\n",
       "        vertical-align: middle;\n",
       "    }\n",
       "\n",
       "    .dataframe tbody tr th {\n",
       "        vertical-align: top;\n",
       "    }\n",
       "\n",
       "    .dataframe thead th {\n",
       "        text-align: right;\n",
       "    }\n",
       "</style>\n",
       "<table border=\"1\" class=\"dataframe\">\n",
       "  <thead>\n",
       "    <tr style=\"text-align: right;\">\n",
       "      <th></th>\n",
       "      <th>year_built</th>\n",
       "      <th>area</th>\n",
       "      <th>url</th>\n",
       "      <th>price</th>\n",
       "      <th>bedrooms</th>\n",
       "      <th>postal_code</th>\n",
       "      <th>rooms</th>\n",
       "      <th>address</th>\n",
       "      <th>property_type</th>\n",
       "    </tr>\n",
       "  </thead>\n",
       "  <tbody>\n",
       "    <tr>\n",
       "      <th>0</th>\n",
       "      <td>1906</td>\n",
       "      <td>108</td>\n",
       "      <td>http://www.funda.nl/koop/verkocht/amsterdam/ap...</td>\n",
       "      <td>510000</td>\n",
       "      <td>2</td>\n",
       "      <td>1013 TN</td>\n",
       "      <td>3</td>\n",
       "      <td>Knollendamstraat 4 III/IV</td>\n",
       "      <td>apartment</td>\n",
       "    </tr>\n",
       "    <tr>\n",
       "      <th>1</th>\n",
       "      <td>1938</td>\n",
       "      <td>47</td>\n",
       "      <td>http://www.funda.nl/koop/verkocht/amsterdam/ap...</td>\n",
       "      <td>215000</td>\n",
       "      <td>1</td>\n",
       "      <td>1079 XM</td>\n",
       "      <td>2</td>\n",
       "      <td>Moerdijkstraat 47 1</td>\n",
       "      <td>apartment</td>\n",
       "    </tr>\n",
       "    <tr>\n",
       "      <th>2</th>\n",
       "      <td>2003</td>\n",
       "      <td>116</td>\n",
       "      <td>http://www.funda.nl/koop/verkocht/amsterdam/ap...</td>\n",
       "      <td>325000</td>\n",
       "      <td>2</td>\n",
       "      <td>1095 AD</td>\n",
       "      <td>3</td>\n",
       "      <td>Zeeburgerdijk 349</td>\n",
       "      <td>apartment</td>\n",
       "    </tr>\n",
       "    <tr>\n",
       "      <th>3</th>\n",
       "      <td>1910</td>\n",
       "      <td>58</td>\n",
       "      <td>http://www.funda.nl/koop/verkocht/amsterdam/ap...</td>\n",
       "      <td>315000</td>\n",
       "      <td>2</td>\n",
       "      <td>1054 VH</td>\n",
       "      <td>3</td>\n",
       "      <td>Brederodestraat 124 -1</td>\n",
       "      <td>apartment</td>\n",
       "    </tr>\n",
       "    <tr>\n",
       "      <th>4</th>\n",
       "      <td>1906</td>\n",
       "      <td>63</td>\n",
       "      <td>http://www.funda.nl/koop/verkocht/amsterdam/ap...</td>\n",
       "      <td>200000</td>\n",
       "      <td>1</td>\n",
       "      <td>1055 MD</td>\n",
       "      <td>3</td>\n",
       "      <td>Admiraal De Ruijterweg 409 III</td>\n",
       "      <td>apartment</td>\n",
       "    </tr>\n",
       "  </tbody>\n",
       "</table>\n",
       "</div>"
      ],
      "text/plain": [
       "   year_built  area                                                url  \\\n",
       "0        1906   108  http://www.funda.nl/koop/verkocht/amsterdam/ap...   \n",
       "1        1938    47  http://www.funda.nl/koop/verkocht/amsterdam/ap...   \n",
       "2        2003   116  http://www.funda.nl/koop/verkocht/amsterdam/ap...   \n",
       "3        1910    58  http://www.funda.nl/koop/verkocht/amsterdam/ap...   \n",
       "4        1906    63  http://www.funda.nl/koop/verkocht/amsterdam/ap...   \n",
       "\n",
       "    price  bedrooms postal_code  rooms                         address  \\\n",
       "0  510000         2     1013 TN      3       Knollendamstraat 4 III/IV   \n",
       "1  215000         1     1079 XM      2             Moerdijkstraat 47 1   \n",
       "2  325000         2     1095 AD      3               Zeeburgerdijk 349   \n",
       "3  315000         2     1054 VH      3          Brederodestraat 124 -1   \n",
       "4  200000         1     1055 MD      3  Admiraal De Ruijterweg 409 III   \n",
       "\n",
       "  property_type  \n",
       "0     apartment  \n",
       "1     apartment  \n",
       "2     apartment  \n",
       "3     apartment  \n",
       "4     apartment  "
      ]
     },
     "execution_count": 32,
     "metadata": {},
     "output_type": "execute_result"
    }
   ],
   "source": [
    "ams_3.head()"
   ]
  },
  {
   "cell_type": "code",
   "execution_count": 33,
   "id": "faa5608d",
   "metadata": {},
   "outputs": [
    {
     "data": {
      "text/plain": [
       "(11443, 9)"
      ]
     },
     "execution_count": 33,
     "metadata": {},
     "output_type": "execute_result"
    }
   ],
   "source": [
    "ams_3.shape"
   ]
  },
  {
   "cell_type": "code",
   "execution_count": 34,
   "id": "e2cd37d6",
   "metadata": {},
   "outputs": [],
   "source": [
    "ams_3[\"price\"] = ams_3[\"price\"].astype(str)"
   ]
  },
  {
   "cell_type": "code",
   "execution_count": 35,
   "id": "af62f642",
   "metadata": {},
   "outputs": [],
   "source": [
    "ams_3[\"len\"] = ams_3[\"price\"].apply(lambda x: len(x))"
   ]
  },
  {
   "cell_type": "code",
   "execution_count": 36,
   "id": "bdb77eb4",
   "metadata": {},
   "outputs": [
    {
     "data": {
      "text/html": [
       "<div>\n",
       "<style scoped>\n",
       "    .dataframe tbody tr th:only-of-type {\n",
       "        vertical-align: middle;\n",
       "    }\n",
       "\n",
       "    .dataframe tbody tr th {\n",
       "        vertical-align: top;\n",
       "    }\n",
       "\n",
       "    .dataframe thead th {\n",
       "        text-align: right;\n",
       "    }\n",
       "</style>\n",
       "<table border=\"1\" class=\"dataframe\">\n",
       "  <thead>\n",
       "    <tr style=\"text-align: right;\">\n",
       "      <th></th>\n",
       "      <th>year_built</th>\n",
       "      <th>area</th>\n",
       "      <th>url</th>\n",
       "      <th>price</th>\n",
       "      <th>bedrooms</th>\n",
       "      <th>postal_code</th>\n",
       "      <th>rooms</th>\n",
       "      <th>address</th>\n",
       "      <th>property_type</th>\n",
       "      <th>len</th>\n",
       "    </tr>\n",
       "  </thead>\n",
       "  <tbody>\n",
       "    <tr>\n",
       "      <th>0</th>\n",
       "      <td>1906</td>\n",
       "      <td>108</td>\n",
       "      <td>http://www.funda.nl/koop/verkocht/amsterdam/ap...</td>\n",
       "      <td>510000</td>\n",
       "      <td>2</td>\n",
       "      <td>1013 TN</td>\n",
       "      <td>3</td>\n",
       "      <td>Knollendamstraat 4 III/IV</td>\n",
       "      <td>apartment</td>\n",
       "      <td>6</td>\n",
       "    </tr>\n",
       "    <tr>\n",
       "      <th>1</th>\n",
       "      <td>1938</td>\n",
       "      <td>47</td>\n",
       "      <td>http://www.funda.nl/koop/verkocht/amsterdam/ap...</td>\n",
       "      <td>215000</td>\n",
       "      <td>1</td>\n",
       "      <td>1079 XM</td>\n",
       "      <td>2</td>\n",
       "      <td>Moerdijkstraat 47 1</td>\n",
       "      <td>apartment</td>\n",
       "      <td>6</td>\n",
       "    </tr>\n",
       "    <tr>\n",
       "      <th>2</th>\n",
       "      <td>2003</td>\n",
       "      <td>116</td>\n",
       "      <td>http://www.funda.nl/koop/verkocht/amsterdam/ap...</td>\n",
       "      <td>325000</td>\n",
       "      <td>2</td>\n",
       "      <td>1095 AD</td>\n",
       "      <td>3</td>\n",
       "      <td>Zeeburgerdijk 349</td>\n",
       "      <td>apartment</td>\n",
       "      <td>6</td>\n",
       "    </tr>\n",
       "    <tr>\n",
       "      <th>3</th>\n",
       "      <td>1910</td>\n",
       "      <td>58</td>\n",
       "      <td>http://www.funda.nl/koop/verkocht/amsterdam/ap...</td>\n",
       "      <td>315000</td>\n",
       "      <td>2</td>\n",
       "      <td>1054 VH</td>\n",
       "      <td>3</td>\n",
       "      <td>Brederodestraat 124 -1</td>\n",
       "      <td>apartment</td>\n",
       "      <td>6</td>\n",
       "    </tr>\n",
       "    <tr>\n",
       "      <th>4</th>\n",
       "      <td>1906</td>\n",
       "      <td>63</td>\n",
       "      <td>http://www.funda.nl/koop/verkocht/amsterdam/ap...</td>\n",
       "      <td>200000</td>\n",
       "      <td>1</td>\n",
       "      <td>1055 MD</td>\n",
       "      <td>3</td>\n",
       "      <td>Admiraal De Ruijterweg 409 III</td>\n",
       "      <td>apartment</td>\n",
       "      <td>6</td>\n",
       "    </tr>\n",
       "    <tr>\n",
       "      <th>...</th>\n",
       "      <td>...</td>\n",
       "      <td>...</td>\n",
       "      <td>...</td>\n",
       "      <td>...</td>\n",
       "      <td>...</td>\n",
       "      <td>...</td>\n",
       "      <td>...</td>\n",
       "      <td>...</td>\n",
       "      <td>...</td>\n",
       "      <td>...</td>\n",
       "    </tr>\n",
       "    <tr>\n",
       "      <th>11438</th>\n",
       "      <td>1938</td>\n",
       "      <td>113</td>\n",
       "      <td>http://www.funda.nl/koop/verkocht/amsterdam/ap...</td>\n",
       "      <td>599000</td>\n",
       "      <td>3</td>\n",
       "      <td>1077 CS</td>\n",
       "      <td>5</td>\n",
       "      <td>Olympiaplein 83 -III</td>\n",
       "      <td>apartment</td>\n",
       "      <td>6</td>\n",
       "    </tr>\n",
       "    <tr>\n",
       "      <th>11439</th>\n",
       "      <td>1993</td>\n",
       "      <td>88</td>\n",
       "      <td>http://www.funda.nl/koop/verkocht/amsterdam/ap...</td>\n",
       "      <td>399000</td>\n",
       "      <td>2</td>\n",
       "      <td>1015 NH</td>\n",
       "      <td>3</td>\n",
       "      <td>Anjeliersstraat 20</td>\n",
       "      <td>apartment</td>\n",
       "      <td>6</td>\n",
       "    </tr>\n",
       "    <tr>\n",
       "      <th>11440</th>\n",
       "      <td>1906</td>\n",
       "      <td>77</td>\n",
       "      <td>http://www.funda.nl/koop/verkocht/amsterdam/ap...</td>\n",
       "      <td>399000</td>\n",
       "      <td>2</td>\n",
       "      <td>1072 GV</td>\n",
       "      <td>4</td>\n",
       "      <td>Rustenburgerstraat 389 I</td>\n",
       "      <td>apartment</td>\n",
       "      <td>6</td>\n",
       "    </tr>\n",
       "    <tr>\n",
       "      <th>11441</th>\n",
       "      <td>1931</td>\n",
       "      <td>90</td>\n",
       "      <td>http://www.funda.nl/koop/verkocht/amsterdam/ap...</td>\n",
       "      <td>259000</td>\n",
       "      <td>3</td>\n",
       "      <td>1055 NX</td>\n",
       "      <td>4</td>\n",
       "      <td>Doggersbankstraat 12 II</td>\n",
       "      <td>apartment</td>\n",
       "      <td>6</td>\n",
       "    </tr>\n",
       "    <tr>\n",
       "      <th>11442</th>\n",
       "      <td>1937</td>\n",
       "      <td>54</td>\n",
       "      <td>http://www.funda.nl/koop/verkocht/amsterdam/ap...</td>\n",
       "      <td>165000</td>\n",
       "      <td>2</td>\n",
       "      <td>1055 VN</td>\n",
       "      <td>3</td>\n",
       "      <td>Anna van Burenstraat 24 2</td>\n",
       "      <td>apartment</td>\n",
       "      <td>6</td>\n",
       "    </tr>\n",
       "  </tbody>\n",
       "</table>\n",
       "<p>11005 rows × 10 columns</p>\n",
       "</div>"
      ],
      "text/plain": [
       "       year_built  area                                                url  \\\n",
       "0            1906   108  http://www.funda.nl/koop/verkocht/amsterdam/ap...   \n",
       "1            1938    47  http://www.funda.nl/koop/verkocht/amsterdam/ap...   \n",
       "2            2003   116  http://www.funda.nl/koop/verkocht/amsterdam/ap...   \n",
       "3            1910    58  http://www.funda.nl/koop/verkocht/amsterdam/ap...   \n",
       "4            1906    63  http://www.funda.nl/koop/verkocht/amsterdam/ap...   \n",
       "...           ...   ...                                                ...   \n",
       "11438        1938   113  http://www.funda.nl/koop/verkocht/amsterdam/ap...   \n",
       "11439        1993    88  http://www.funda.nl/koop/verkocht/amsterdam/ap...   \n",
       "11440        1906    77  http://www.funda.nl/koop/verkocht/amsterdam/ap...   \n",
       "11441        1931    90  http://www.funda.nl/koop/verkocht/amsterdam/ap...   \n",
       "11442        1937    54  http://www.funda.nl/koop/verkocht/amsterdam/ap...   \n",
       "\n",
       "        price  bedrooms postal_code  rooms                         address  \\\n",
       "0      510000         2     1013 TN      3       Knollendamstraat 4 III/IV   \n",
       "1      215000         1     1079 XM      2             Moerdijkstraat 47 1   \n",
       "2      325000         2     1095 AD      3               Zeeburgerdijk 349   \n",
       "3      315000         2     1054 VH      3          Brederodestraat 124 -1   \n",
       "4      200000         1     1055 MD      3  Admiraal De Ruijterweg 409 III   \n",
       "...       ...       ...         ...    ...                             ...   \n",
       "11438  599000         3     1077 CS      5            Olympiaplein 83 -III   \n",
       "11439  399000         2     1015 NH      3              Anjeliersstraat 20   \n",
       "11440  399000         2     1072 GV      4        Rustenburgerstraat 389 I   \n",
       "11441  259000         3     1055 NX      4         Doggersbankstraat 12 II   \n",
       "11442  165000         2     1055 VN      3       Anna van Burenstraat 24 2   \n",
       "\n",
       "      property_type  len  \n",
       "0         apartment    6  \n",
       "1         apartment    6  \n",
       "2         apartment    6  \n",
       "3         apartment    6  \n",
       "4         apartment    6  \n",
       "...             ...  ...  \n",
       "11438     apartment    6  \n",
       "11439     apartment    6  \n",
       "11440     apartment    6  \n",
       "11441     apartment    6  \n",
       "11442     apartment    6  \n",
       "\n",
       "[11005 rows x 10 columns]"
      ]
     },
     "execution_count": 36,
     "metadata": {},
     "output_type": "execute_result"
    }
   ],
   "source": [
    "ams_3[ams_3[\"len\"]==6]"
   ]
  },
  {
   "cell_type": "code",
   "execution_count": 37,
   "id": "ab01183b",
   "metadata": {},
   "outputs": [],
   "source": [
    "ams_3[\"price\"] = ams_3[\"price\"].apply(lambda x: x + \"000\" if len(x) ==4 else x)"
   ]
  },
  {
   "cell_type": "code",
   "execution_count": 38,
   "id": "42c9eb5f",
   "metadata": {},
   "outputs": [],
   "source": [
    "ams_3[\"price\"] = ams_3[\"price\"].apply(lambda x: x + \"0\" if len(x) ==5 else x)"
   ]
  },
  {
   "cell_type": "code",
   "execution_count": 39,
   "id": "c48ed6da",
   "metadata": {},
   "outputs": [],
   "source": [
    "ams_3[\"price\"] = ams_3[\"price\"].astype(int)"
   ]
  },
  {
   "cell_type": "code",
   "execution_count": null,
   "id": "192dae03",
   "metadata": {},
   "outputs": [],
   "source": []
  },
  {
   "cell_type": "code",
   "execution_count": 40,
   "id": "14beceb4",
   "metadata": {},
   "outputs": [],
   "source": [
    "df = pd.concat([ams_1,ams_2,ams_3], ignore_index=True)"
   ]
  },
  {
   "cell_type": "code",
   "execution_count": 41,
   "id": "9e162c68",
   "metadata": {},
   "outputs": [
    {
     "data": {
      "text/plain": [
       "(16980, 10)"
      ]
     },
     "execution_count": 41,
     "metadata": {},
     "output_type": "execute_result"
    }
   ],
   "source": [
    "df.shape"
   ]
  },
  {
   "cell_type": "code",
   "execution_count": 42,
   "id": "6f3f1a87",
   "metadata": {},
   "outputs": [
    {
     "data": {
      "text/html": [
       "<div>\n",
       "<style scoped>\n",
       "    .dataframe tbody tr th:only-of-type {\n",
       "        vertical-align: middle;\n",
       "    }\n",
       "\n",
       "    .dataframe tbody tr th {\n",
       "        vertical-align: top;\n",
       "    }\n",
       "\n",
       "    .dataframe thead th {\n",
       "        text-align: right;\n",
       "    }\n",
       "</style>\n",
       "<table border=\"1\" class=\"dataframe\">\n",
       "  <thead>\n",
       "    <tr style=\"text-align: right;\">\n",
       "      <th></th>\n",
       "      <th>year_built</th>\n",
       "      <th>area</th>\n",
       "      <th>url</th>\n",
       "      <th>price</th>\n",
       "      <th>bedrooms</th>\n",
       "      <th>postal_code</th>\n",
       "      <th>rooms</th>\n",
       "      <th>address</th>\n",
       "      <th>property_type</th>\n",
       "      <th>len</th>\n",
       "    </tr>\n",
       "  </thead>\n",
       "  <tbody>\n",
       "    <tr>\n",
       "      <th>0</th>\n",
       "      <td>1984</td>\n",
       "      <td>31</td>\n",
       "      <td>http://www.funda.nl/koop/amsterdam/appartement...</td>\n",
       "      <td>132500</td>\n",
       "      <td>1</td>\n",
       "      <td>1065 LX</td>\n",
       "      <td>1</td>\n",
       "      <td>Jan Muschstraat 8</td>\n",
       "      <td>apartment</td>\n",
       "      <td>7</td>\n",
       "    </tr>\n",
       "    <tr>\n",
       "      <th>1</th>\n",
       "      <td>1990</td>\n",
       "      <td>79</td>\n",
       "      <td>http://www.funda.nl/koop/amsterdam/appartement...</td>\n",
       "      <td>300000</td>\n",
       "      <td>1</td>\n",
       "      <td>1019 HT</td>\n",
       "      <td>2</td>\n",
       "      <td>Zeeburgerkade 738 +PP</td>\n",
       "      <td>apartment</td>\n",
       "      <td>7</td>\n",
       "    </tr>\n",
       "    <tr>\n",
       "      <th>2</th>\n",
       "      <td>1906</td>\n",
       "      <td>93</td>\n",
       "      <td>http://www.funda.nl/koop/amsterdam/appartement...</td>\n",
       "      <td>550000</td>\n",
       "      <td>3</td>\n",
       "      <td>1051 GT</td>\n",
       "      <td>4</td>\n",
       "      <td>Cliffordstraat 22 -HUIS</td>\n",
       "      <td>apartment</td>\n",
       "      <td>7</td>\n",
       "    </tr>\n",
       "    <tr>\n",
       "      <th>3</th>\n",
       "      <td>2002</td>\n",
       "      <td>90</td>\n",
       "      <td>http://www.funda.nl/koop/amsterdam/appartement...</td>\n",
       "      <td>318500</td>\n",
       "      <td>2</td>\n",
       "      <td>1095 LG</td>\n",
       "      <td>3</td>\n",
       "      <td>Zeeburgerdijk 768</td>\n",
       "      <td>apartment</td>\n",
       "      <td>7</td>\n",
       "    </tr>\n",
       "    <tr>\n",
       "      <th>4</th>\n",
       "      <td>1904</td>\n",
       "      <td>142</td>\n",
       "      <td>http://www.funda.nl/koop/amsterdam/huis-497973...</td>\n",
       "      <td>475000</td>\n",
       "      <td>3</td>\n",
       "      <td>1035 PS</td>\n",
       "      <td>6</td>\n",
       "      <td>Landsmeerderdijk 47</td>\n",
       "      <td>house</td>\n",
       "      <td>7</td>\n",
       "    </tr>\n",
       "  </tbody>\n",
       "</table>\n",
       "</div>"
      ],
      "text/plain": [
       "  year_built area                                                url   price  \\\n",
       "0       1984   31  http://www.funda.nl/koop/amsterdam/appartement...  132500   \n",
       "1       1990   79  http://www.funda.nl/koop/amsterdam/appartement...  300000   \n",
       "2       1906   93  http://www.funda.nl/koop/amsterdam/appartement...  550000   \n",
       "3       2002   90  http://www.funda.nl/koop/amsterdam/appartement...  318500   \n",
       "4       1904  142  http://www.funda.nl/koop/amsterdam/huis-497973...  475000   \n",
       "\n",
       "  bedrooms postal_code rooms                  address property_type  len  \n",
       "0        1     1065 LX     1        Jan Muschstraat 8     apartment    7  \n",
       "1        1     1019 HT     2    Zeeburgerkade 738 +PP     apartment    7  \n",
       "2        3     1051 GT     4  Cliffordstraat 22 -HUIS     apartment    7  \n",
       "3        2     1095 LG     3        Zeeburgerdijk 768     apartment    7  \n",
       "4        3     1035 PS     6      Landsmeerderdijk 47         house    7  "
      ]
     },
     "execution_count": 42,
     "metadata": {},
     "output_type": "execute_result"
    }
   ],
   "source": [
    "df.head()"
   ]
  },
  {
   "cell_type": "code",
   "execution_count": 43,
   "id": "139cdd6e",
   "metadata": {},
   "outputs": [
    {
     "data": {
      "text/plain": [
       "year_built       object\n",
       "area             object\n",
       "url              object\n",
       "price             int32\n",
       "bedrooms         object\n",
       "postal_code      object\n",
       "rooms            object\n",
       "address          object\n",
       "property_type    object\n",
       "len               int64\n",
       "dtype: object"
      ]
     },
     "execution_count": 43,
     "metadata": {},
     "output_type": "execute_result"
    }
   ],
   "source": [
    "df.dtypes"
   ]
  },
  {
   "cell_type": "code",
   "execution_count": 44,
   "id": "702e3207",
   "metadata": {},
   "outputs": [
    {
     "data": {
      "text/plain": [
       "apartment    14406\n",
       "house         2574\n",
       "Name: property_type, dtype: int64"
      ]
     },
     "execution_count": 44,
     "metadata": {},
     "output_type": "execute_result"
    }
   ],
   "source": [
    "df[\"property_type\"].value_counts()"
   ]
  },
  {
   "cell_type": "code",
   "execution_count": 45,
   "id": "33f82dcc",
   "metadata": {},
   "outputs": [],
   "source": [
    "df = df.drop([\"url\", \"len\"], axis = 1)"
   ]
  },
  {
   "cell_type": "code",
   "execution_count": 46,
   "id": "c34de67c",
   "metadata": {},
   "outputs": [
    {
     "data": {
      "text/plain": [
       "1906    2374\n",
       "1931     433\n",
       "1930     374\n",
       "1960     352\n",
       "1906     290\n",
       "        ... \n",
       "1865       1\n",
       "1618       1\n",
       "1621       1\n",
       "1872       1\n",
       "1715       1\n",
       "Name: year_built, Length: 415, dtype: int64"
      ]
     },
     "execution_count": 46,
     "metadata": {},
     "output_type": "execute_result"
    }
   ],
   "source": [
    "df[\"year_built\"].value_counts()"
   ]
  },
  {
   "cell_type": "code",
   "execution_count": 47,
   "id": "4364e97d",
   "metadata": {},
   "outputs": [
    {
     "data": {
      "text/plain": [
       "year_built       0\n",
       "area             0\n",
       "price            0\n",
       "bedrooms         0\n",
       "postal_code      0\n",
       "rooms            0\n",
       "address          0\n",
       "property_type    0\n",
       "dtype: int64"
      ]
     },
     "execution_count": 47,
     "metadata": {},
     "output_type": "execute_result"
    }
   ],
   "source": [
    "df.isna().sum()"
   ]
  },
  {
   "cell_type": "code",
   "execution_count": 48,
   "id": "bc762706",
   "metadata": {},
   "outputs": [],
   "source": [
    "#Encode \"property_Type\"\n",
    "df[\"property_type\"] = df[\"property_type\"].apply(lambda x: 0 if x == \"house\" else 1)"
   ]
  },
  {
   "cell_type": "code",
   "execution_count": 49,
   "id": "7f57670a",
   "metadata": {},
   "outputs": [
    {
     "data": {
      "text/plain": [
       "year_built       object\n",
       "area             object\n",
       "price             int32\n",
       "bedrooms         object\n",
       "postal_code      object\n",
       "rooms            object\n",
       "address          object\n",
       "property_type     int64\n",
       "dtype: object"
      ]
     },
     "execution_count": 49,
     "metadata": {},
     "output_type": "execute_result"
    }
   ],
   "source": [
    "df.dtypes"
   ]
  },
  {
   "cell_type": "code",
   "execution_count": 50,
   "id": "219895cf",
   "metadata": {},
   "outputs": [],
   "source": [
    "df[[\"year_built\", \"area\", \"bedrooms\",\"rooms\"]] = df[[\"year_built\", \"area\", \"bedrooms\",\"rooms\"]].astype(int)"
   ]
  },
  {
   "cell_type": "code",
   "execution_count": 51,
   "id": "3a9cb74c",
   "metadata": {},
   "outputs": [],
   "source": [
    "#Encode year_built:\n",
    "le = LabelEncoder()\n",
    "df[\"year_built\"] = le.fit_transform(df[\"year_built\"])"
   ]
  },
  {
   "cell_type": "code",
   "execution_count": 52,
   "id": "8e0ef9a7",
   "metadata": {},
   "outputs": [],
   "source": [
    "df = df.drop_duplicates(subset = [\"address\", \"postal_code\", \"property_type\"])"
   ]
  },
  {
   "cell_type": "code",
   "execution_count": 53,
   "id": "b376b52a",
   "metadata": {},
   "outputs": [],
   "source": [
    "df[\"postal_code\"] = df[\"postal_code\"].apply(lambda x: x.replace(\" \", \"\"))"
   ]
  },
  {
   "cell_type": "code",
   "execution_count": 54,
   "id": "f0a6d8db",
   "metadata": {},
   "outputs": [],
   "source": [
    "df = df.reset_index()"
   ]
  },
  {
   "cell_type": "code",
   "execution_count": 55,
   "id": "3b60bc2a",
   "metadata": {},
   "outputs": [
    {
     "data": {
      "text/html": [
       "<div>\n",
       "<style scoped>\n",
       "    .dataframe tbody tr th:only-of-type {\n",
       "        vertical-align: middle;\n",
       "    }\n",
       "\n",
       "    .dataframe tbody tr th {\n",
       "        vertical-align: top;\n",
       "    }\n",
       "\n",
       "    .dataframe thead th {\n",
       "        text-align: right;\n",
       "    }\n",
       "</style>\n",
       "<table border=\"1\" class=\"dataframe\">\n",
       "  <thead>\n",
       "    <tr style=\"text-align: right;\">\n",
       "      <th></th>\n",
       "      <th>index</th>\n",
       "      <th>year_built</th>\n",
       "      <th>area</th>\n",
       "      <th>price</th>\n",
       "      <th>bedrooms</th>\n",
       "      <th>postal_code</th>\n",
       "      <th>rooms</th>\n",
       "      <th>address</th>\n",
       "      <th>property_type</th>\n",
       "    </tr>\n",
       "  </thead>\n",
       "  <tbody>\n",
       "    <tr>\n",
       "      <th>0</th>\n",
       "      <td>0</td>\n",
       "      <td>195</td>\n",
       "      <td>31</td>\n",
       "      <td>132500</td>\n",
       "      <td>1</td>\n",
       "      <td>1065LX</td>\n",
       "      <td>1</td>\n",
       "      <td>Jan Muschstraat 8</td>\n",
       "      <td>1</td>\n",
       "    </tr>\n",
       "    <tr>\n",
       "      <th>1</th>\n",
       "      <td>1</td>\n",
       "      <td>201</td>\n",
       "      <td>79</td>\n",
       "      <td>300000</td>\n",
       "      <td>1</td>\n",
       "      <td>1019HT</td>\n",
       "      <td>2</td>\n",
       "      <td>Zeeburgerkade 738 +PP</td>\n",
       "      <td>1</td>\n",
       "    </tr>\n",
       "    <tr>\n",
       "      <th>2</th>\n",
       "      <td>2</td>\n",
       "      <td>121</td>\n",
       "      <td>93</td>\n",
       "      <td>550000</td>\n",
       "      <td>3</td>\n",
       "      <td>1051GT</td>\n",
       "      <td>4</td>\n",
       "      <td>Cliffordstraat 22 -HUIS</td>\n",
       "      <td>1</td>\n",
       "    </tr>\n",
       "    <tr>\n",
       "      <th>3</th>\n",
       "      <td>3</td>\n",
       "      <td>213</td>\n",
       "      <td>90</td>\n",
       "      <td>318500</td>\n",
       "      <td>2</td>\n",
       "      <td>1095LG</td>\n",
       "      <td>3</td>\n",
       "      <td>Zeeburgerdijk 768</td>\n",
       "      <td>1</td>\n",
       "    </tr>\n",
       "    <tr>\n",
       "      <th>4</th>\n",
       "      <td>4</td>\n",
       "      <td>119</td>\n",
       "      <td>142</td>\n",
       "      <td>475000</td>\n",
       "      <td>3</td>\n",
       "      <td>1035PS</td>\n",
       "      <td>6</td>\n",
       "      <td>Landsmeerderdijk 47</td>\n",
       "      <td>0</td>\n",
       "    </tr>\n",
       "  </tbody>\n",
       "</table>\n",
       "</div>"
      ],
      "text/plain": [
       "   index  year_built  area   price  bedrooms postal_code  rooms  \\\n",
       "0      0         195    31  132500         1      1065LX      1   \n",
       "1      1         201    79  300000         1      1019HT      2   \n",
       "2      2         121    93  550000         3      1051GT      4   \n",
       "3      3         213    90  318500         2      1095LG      3   \n",
       "4      4         119   142  475000         3      1035PS      6   \n",
       "\n",
       "                   address  property_type  \n",
       "0        Jan Muschstraat 8              1  \n",
       "1    Zeeburgerkade 738 +PP              1  \n",
       "2  Cliffordstraat 22 -HUIS              1  \n",
       "3        Zeeburgerdijk 768              1  \n",
       "4      Landsmeerderdijk 47              0  "
      ]
     },
     "execution_count": 55,
     "metadata": {},
     "output_type": "execute_result"
    }
   ],
   "source": [
    "df.head()"
   ]
  },
  {
   "cell_type": "code",
   "execution_count": 56,
   "id": "9429e5f0",
   "metadata": {},
   "outputs": [
    {
     "data": {
      "text/plain": [
       "(13970, 9)"
      ]
     },
     "execution_count": 56,
     "metadata": {},
     "output_type": "execute_result"
    }
   ],
   "source": [
    "df.shape"
   ]
  },
  {
   "cell_type": "code",
   "execution_count": 57,
   "id": "c53ef4ee",
   "metadata": {},
   "outputs": [],
   "source": [
    "df[\"postal_code\"] = df[\"postal_code\"].astype(str)"
   ]
  },
  {
   "cell_type": "code",
   "execution_count": 58,
   "id": "75fb0948",
   "metadata": {},
   "outputs": [],
   "source": [
    "df = df.drop([\"index\"], axis = 1)"
   ]
  },
  {
   "cell_type": "code",
   "execution_count": 59,
   "id": "f13ee1d2",
   "metadata": {},
   "outputs": [
    {
     "name": "stderr",
     "output_type": "stream",
     "text": [
      "C:\\Users\\TL\\AppData\\Local\\Temp/ipykernel_3572/1090145124.py:1: SettingWithCopyWarning: \n",
      "A value is trying to be set on a copy of a slice from a DataFrame\n",
      "\n",
      "See the caveats in the documentation: https://pandas.pydata.org/pandas-docs/stable/user_guide/indexing.html#returning-a-view-versus-a-copy\n",
      "  df[\"postal_code\"][8239] = \"1064EK\"\n"
     ]
    }
   ],
   "source": [
    "df[\"postal_code\"][8239] = \"1064EK\""
   ]
  },
  {
   "cell_type": "code",
   "execution_count": 60,
   "id": "ce37f40c",
   "metadata": {},
   "outputs": [],
   "source": [
    "from geopy.geocoders import Nominatim\n",
    "geolocator = Nominatim(user_agent=\"myGeocoder\")"
   ]
  },
  {
   "cell_type": "code",
   "execution_count": 74,
   "id": "2af12a81",
   "metadata": {},
   "outputs": [
    {
     "name": "stderr",
     "output_type": "stream",
     "text": [
      "C:\\Users\\TL\\AppData\\Local\\Temp/ipykernel_12072/3011724597.py:4: SettingWithCopyWarning: \n",
      "A value is trying to be set on a copy of a slice from a DataFrame.\n",
      "Try using .loc[row_indexer,col_indexer] = value instead\n",
      "\n",
      "See the caveats in the documentation: https://pandas.pydata.org/pandas-docs/stable/user_guide/indexing.html#returning-a-view-versus-a-copy\n",
      "  df_tmp[\"longitude\"] = df_tmp[\"postal_code\"].apply(lambda x: geolocator.geocode(x).longitude)\n",
      "C:\\Users\\TL\\AppData\\Local\\Temp/ipykernel_12072/3011724597.py:5: SettingWithCopyWarning: \n",
      "A value is trying to be set on a copy of a slice from a DataFrame.\n",
      "Try using .loc[row_indexer,col_indexer] = value instead\n",
      "\n",
      "See the caveats in the documentation: https://pandas.pydata.org/pandas-docs/stable/user_guide/indexing.html#returning-a-view-versus-a-copy\n",
      "  df_tmp[\"latitude\"] = df_tmp[\"postal_code\"].apply(lambda x: geolocator.geocode(x).latitude)\n"
     ]
    }
   ],
   "source": [
    "start = 10001\n",
    "for i in range(10100,14100,100):\n",
    "    df_tmp = df.loc[start:i]\n",
    "    df_tmp[\"longitude\"] = df_tmp[\"postal_code\"].apply(lambda x: geolocator.geocode(x).longitude)\n",
    "    df_tmp[\"latitude\"] = df_tmp[\"postal_code\"].apply(lambda x: geolocator.geocode(x).latitude)\n",
    "    df_tmp.to_csv(\"./csv/df_{}.csv\".format(i))\n",
    "    start=i+1"
   ]
  },
  {
   "cell_type": "code",
   "execution_count": 163,
   "id": "2a7ab9ab",
   "metadata": {},
   "outputs": [],
   "source": [
    "# start = 8201\n",
    "# for i in range(8300,10001,100):\n",
    "#     df_tmp = df.loc[start:i]\n",
    "#     df_tmp[\"longitude\"] = df_tmp[\"postal_code\"].apply(lambda x: geolocator.geocode(x).longitude)\n",
    "#     df_tmp[\"latitude\"] = df_tmp[\"postal_code\"].apply(lambda x: geolocator.geocode(x).latitude)\n",
    "#     df_tmp.to_csv(\"./csv/df_{}.csv\".format(i))\n",
    "#     start=i+1"
   ]
  },
  {
   "cell_type": "code",
   "execution_count": 75,
   "id": "1023dcbd",
   "metadata": {},
   "outputs": [],
   "source": [
    "# start = 10001\n",
    "# for i in range(10100,14100,100):\n",
    "#     print(start,i)\n",
    "#     start=i+1"
   ]
  },
  {
   "cell_type": "code",
   "execution_count": null,
   "id": "5ce043b6",
   "metadata": {},
   "outputs": [],
   "source": []
  },
  {
   "cell_type": "code",
   "execution_count": 60,
   "id": "8a414c13",
   "metadata": {},
   "outputs": [],
   "source": [
    "import glob\n",
    "\n",
    "final_data = pd.DataFrame()\n",
    "path = \"C:/Users/TL/Desktop/Thesis/data/csv\"\n",
    "for file_name in glob.glob(path +'\\*.csv'):\n",
    "    x = pd.read_csv(file_name, low_memory=False)\n",
    "    final_data = pd.concat([final_data,x],axis=0)"
   ]
  },
  {
   "cell_type": "code",
   "execution_count": 61,
   "id": "56e46a33",
   "metadata": {},
   "outputs": [
    {
     "data": {
      "text/html": [
       "<div>\n",
       "<style scoped>\n",
       "    .dataframe tbody tr th:only-of-type {\n",
       "        vertical-align: middle;\n",
       "    }\n",
       "\n",
       "    .dataframe tbody tr th {\n",
       "        vertical-align: top;\n",
       "    }\n",
       "\n",
       "    .dataframe thead th {\n",
       "        text-align: right;\n",
       "    }\n",
       "</style>\n",
       "<table border=\"1\" class=\"dataframe\">\n",
       "  <thead>\n",
       "    <tr style=\"text-align: right;\">\n",
       "      <th></th>\n",
       "      <th>Unnamed: 0</th>\n",
       "      <th>index</th>\n",
       "      <th>year_built</th>\n",
       "      <th>area</th>\n",
       "      <th>price</th>\n",
       "      <th>bedrooms</th>\n",
       "      <th>postal_code</th>\n",
       "      <th>rooms</th>\n",
       "      <th>address</th>\n",
       "      <th>property_type</th>\n",
       "      <th>longitude</th>\n",
       "      <th>latitude</th>\n",
       "    </tr>\n",
       "  </thead>\n",
       "  <tbody>\n",
       "    <tr>\n",
       "      <th>0</th>\n",
       "      <td>0</td>\n",
       "      <td>0.0</td>\n",
       "      <td>195</td>\n",
       "      <td>31</td>\n",
       "      <td>132500</td>\n",
       "      <td>1</td>\n",
       "      <td>1065LX</td>\n",
       "      <td>1</td>\n",
       "      <td>Jan Muschstraat 8</td>\n",
       "      <td>1</td>\n",
       "      <td>4.820961</td>\n",
       "      <td>52.356758</td>\n",
       "    </tr>\n",
       "    <tr>\n",
       "      <th>1</th>\n",
       "      <td>1</td>\n",
       "      <td>1.0</td>\n",
       "      <td>201</td>\n",
       "      <td>79</td>\n",
       "      <td>300000</td>\n",
       "      <td>1</td>\n",
       "      <td>1019HT</td>\n",
       "      <td>2</td>\n",
       "      <td>Zeeburgerkade 738 +PP</td>\n",
       "      <td>1</td>\n",
       "      <td>4.945214</td>\n",
       "      <td>52.369159</td>\n",
       "    </tr>\n",
       "    <tr>\n",
       "      <th>2</th>\n",
       "      <td>2</td>\n",
       "      <td>2.0</td>\n",
       "      <td>121</td>\n",
       "      <td>93</td>\n",
       "      <td>550000</td>\n",
       "      <td>3</td>\n",
       "      <td>1051GT</td>\n",
       "      <td>4</td>\n",
       "      <td>Cliffordstraat 22 -HUIS</td>\n",
       "      <td>1</td>\n",
       "      <td>4.872719</td>\n",
       "      <td>52.384031</td>\n",
       "    </tr>\n",
       "    <tr>\n",
       "      <th>3</th>\n",
       "      <td>3</td>\n",
       "      <td>3.0</td>\n",
       "      <td>213</td>\n",
       "      <td>90</td>\n",
       "      <td>318500</td>\n",
       "      <td>2</td>\n",
       "      <td>1095LG</td>\n",
       "      <td>3</td>\n",
       "      <td>Zeeburgerdijk 768</td>\n",
       "      <td>1</td>\n",
       "      <td>4.948301</td>\n",
       "      <td>52.366209</td>\n",
       "    </tr>\n",
       "    <tr>\n",
       "      <th>4</th>\n",
       "      <td>4</td>\n",
       "      <td>4.0</td>\n",
       "      <td>119</td>\n",
       "      <td>142</td>\n",
       "      <td>475000</td>\n",
       "      <td>3</td>\n",
       "      <td>1035PS</td>\n",
       "      <td>6</td>\n",
       "      <td>Landsmeerderdijk 47</td>\n",
       "      <td>0</td>\n",
       "      <td>4.899152</td>\n",
       "      <td>52.415561</td>\n",
       "    </tr>\n",
       "  </tbody>\n",
       "</table>\n",
       "</div>"
      ],
      "text/plain": [
       "   Unnamed: 0  index  year_built  area   price  bedrooms postal_code  rooms  \\\n",
       "0           0    0.0         195    31  132500         1      1065LX      1   \n",
       "1           1    1.0         201    79  300000         1      1019HT      2   \n",
       "2           2    2.0         121    93  550000         3      1051GT      4   \n",
       "3           3    3.0         213    90  318500         2      1095LG      3   \n",
       "4           4    4.0         119   142  475000         3      1035PS      6   \n",
       "\n",
       "                   address  property_type  longitude   latitude  \n",
       "0        Jan Muschstraat 8              1   4.820961  52.356758  \n",
       "1    Zeeburgerkade 738 +PP              1   4.945214  52.369159  \n",
       "2  Cliffordstraat 22 -HUIS              1   4.872719  52.384031  \n",
       "3        Zeeburgerdijk 768              1   4.948301  52.366209  \n",
       "4      Landsmeerderdijk 47              0   4.899152  52.415561  "
      ]
     },
     "execution_count": 61,
     "metadata": {},
     "output_type": "execute_result"
    }
   ],
   "source": [
    "final_data.head()"
   ]
  },
  {
   "cell_type": "code",
   "execution_count": 62,
   "id": "184a7ff1",
   "metadata": {},
   "outputs": [],
   "source": [
    "final_data = final_data.drop([\"Unnamed: 0\", \"index\", \"postal_code\", \"address\"], axis = 1)"
   ]
  },
  {
   "cell_type": "code",
   "execution_count": 63,
   "id": "7534a8c5",
   "metadata": {},
   "outputs": [
    {
     "data": {
      "text/plain": [
       "(13970, 8)"
      ]
     },
     "execution_count": 63,
     "metadata": {},
     "output_type": "execute_result"
    }
   ],
   "source": [
    "final_data.shape"
   ]
  },
  {
   "cell_type": "code",
   "execution_count": 64,
   "id": "deb98ee4",
   "metadata": {},
   "outputs": [],
   "source": [
    "final_data = final_data.reset_index()"
   ]
  },
  {
   "cell_type": "code",
   "execution_count": 65,
   "id": "b900269b",
   "metadata": {},
   "outputs": [],
   "source": [
    "final_data = final_data.drop([\"index\"], axis = 1)"
   ]
  },
  {
   "cell_type": "code",
   "execution_count": 66,
   "id": "28dfa825",
   "metadata": {},
   "outputs": [
    {
     "data": {
      "text/html": [
       "<div>\n",
       "<style scoped>\n",
       "    .dataframe tbody tr th:only-of-type {\n",
       "        vertical-align: middle;\n",
       "    }\n",
       "\n",
       "    .dataframe tbody tr th {\n",
       "        vertical-align: top;\n",
       "    }\n",
       "\n",
       "    .dataframe thead th {\n",
       "        text-align: right;\n",
       "    }\n",
       "</style>\n",
       "<table border=\"1\" class=\"dataframe\">\n",
       "  <thead>\n",
       "    <tr style=\"text-align: right;\">\n",
       "      <th></th>\n",
       "      <th>year_built</th>\n",
       "      <th>area</th>\n",
       "      <th>price</th>\n",
       "      <th>bedrooms</th>\n",
       "      <th>rooms</th>\n",
       "      <th>property_type</th>\n",
       "      <th>longitude</th>\n",
       "      <th>latitude</th>\n",
       "    </tr>\n",
       "  </thead>\n",
       "  <tbody>\n",
       "    <tr>\n",
       "      <th>0</th>\n",
       "      <td>195</td>\n",
       "      <td>31</td>\n",
       "      <td>132500</td>\n",
       "      <td>1</td>\n",
       "      <td>1</td>\n",
       "      <td>1</td>\n",
       "      <td>4.820961</td>\n",
       "      <td>52.356758</td>\n",
       "    </tr>\n",
       "    <tr>\n",
       "      <th>1</th>\n",
       "      <td>201</td>\n",
       "      <td>79</td>\n",
       "      <td>300000</td>\n",
       "      <td>1</td>\n",
       "      <td>2</td>\n",
       "      <td>1</td>\n",
       "      <td>4.945214</td>\n",
       "      <td>52.369159</td>\n",
       "    </tr>\n",
       "    <tr>\n",
       "      <th>2</th>\n",
       "      <td>121</td>\n",
       "      <td>93</td>\n",
       "      <td>550000</td>\n",
       "      <td>3</td>\n",
       "      <td>4</td>\n",
       "      <td>1</td>\n",
       "      <td>4.872719</td>\n",
       "      <td>52.384031</td>\n",
       "    </tr>\n",
       "    <tr>\n",
       "      <th>3</th>\n",
       "      <td>213</td>\n",
       "      <td>90</td>\n",
       "      <td>318500</td>\n",
       "      <td>2</td>\n",
       "      <td>3</td>\n",
       "      <td>1</td>\n",
       "      <td>4.948301</td>\n",
       "      <td>52.366209</td>\n",
       "    </tr>\n",
       "    <tr>\n",
       "      <th>4</th>\n",
       "      <td>119</td>\n",
       "      <td>142</td>\n",
       "      <td>475000</td>\n",
       "      <td>3</td>\n",
       "      <td>6</td>\n",
       "      <td>0</td>\n",
       "      <td>4.899152</td>\n",
       "      <td>52.415561</td>\n",
       "    </tr>\n",
       "  </tbody>\n",
       "</table>\n",
       "</div>"
      ],
      "text/plain": [
       "   year_built  area   price  bedrooms  rooms  property_type  longitude  \\\n",
       "0         195    31  132500         1      1              1   4.820961   \n",
       "1         201    79  300000         1      2              1   4.945214   \n",
       "2         121    93  550000         3      4              1   4.872719   \n",
       "3         213    90  318500         2      3              1   4.948301   \n",
       "4         119   142  475000         3      6              0   4.899152   \n",
       "\n",
       "    latitude  \n",
       "0  52.356758  \n",
       "1  52.369159  \n",
       "2  52.384031  \n",
       "3  52.366209  \n",
       "4  52.415561  "
      ]
     },
     "execution_count": 66,
     "metadata": {},
     "output_type": "execute_result"
    }
   ],
   "source": [
    "final_data.head()"
   ]
  },
  {
   "cell_type": "code",
   "execution_count": 93,
   "id": "d36b6184",
   "metadata": {},
   "outputs": [
    {
     "data": {
      "text/plain": [
       "(13970, 7)"
      ]
     },
     "execution_count": 93,
     "metadata": {},
     "output_type": "execute_result"
    }
   ],
   "source": [
    "final_data.shape"
   ]
  },
  {
   "cell_type": "code",
   "execution_count": 67,
   "id": "64690b97",
   "metadata": {},
   "outputs": [],
   "source": [
    "X = final_data\n",
    "y = final_data.pop(\"price\")"
   ]
  },
  {
   "cell_type": "code",
   "execution_count": 68,
   "id": "db8d14d4",
   "metadata": {},
   "outputs": [],
   "source": [
    "#Spliting Train-test sets:\n",
    "X_train, X_test, y_train, y_test = train_test_split(X, y, train_size=0.8,test_size=0.2, random_state=666)"
   ]
  },
  {
   "cell_type": "code",
   "execution_count": 69,
   "id": "ca221530",
   "metadata": {},
   "outputs": [],
   "source": [
    "#Standardizatin:\n",
    "scaler = StandardScaler()\n",
    "scaler.fit(X_train)\n",
    "scaler.fit(X_test)\n",
    "X_train = scaler.transform(X_train)\n",
    "X_test= scaler.transform(X_test)\n",
    "\n",
    "X_train = pd.DataFrame(X_train)\n",
    "X_test = pd.DataFrame(X_test)"
   ]
  },
  {
   "cell_type": "markdown",
   "id": "686953d1",
   "metadata": {},
   "source": [
    "## Linear Part:"
   ]
  },
  {
   "cell_type": "code",
   "execution_count": 75,
   "id": "52c7d5de",
   "metadata": {},
   "outputs": [],
   "source": [
    "# Linear Regression:\n",
    "LR = LinearRegression()\n",
    "LR = LR.fit(X_train, y_train)\n",
    "LR_pred = LR.predict(X_test)"
   ]
  },
  {
   "cell_type": "code",
   "execution_count": 77,
   "id": "ddfa7705",
   "metadata": {},
   "outputs": [
    {
     "name": "stdout",
     "output_type": "stream",
     "text": [
      "mae: 102208.89248297978\n",
      "mse: 41768965350.04558\n",
      "rmse: 204374.5711923222\n",
      "r2: 0.6878422527002382\n"
     ]
    }
   ],
   "source": [
    "#MAE & R2 - Linear - train set:\n",
    "print(\"mae:\", mean_absolute_error(y_train, LR.predict(X_train)))\n",
    "print(\"mse:\", mean_squared_error(y_train, LR.predict(X_train)))\n",
    "print(\"rmse:\", mean_squared_error(y_train, LR.predict(X_train), squared = False))\n",
    "print(\"r2:\", r2_score(y_train, LR.predict(X_train)))"
   ]
  },
  {
   "cell_type": "code",
   "execution_count": 76,
   "id": "a4561034",
   "metadata": {},
   "outputs": [
    {
     "name": "stdout",
     "output_type": "stream",
     "text": [
      "mae: 101387.92305182826\n",
      "mse: 41000876987.42075\n",
      "rmse: 202486.73286766408\n",
      "r2: 0.6954241282044722\n"
     ]
    }
   ],
   "source": [
    "#MAE & R2 - Linear - test set:\n",
    "print(\"mae:\", mean_absolute_error(y_test, LR_pred))\n",
    "print(\"mse:\", mean_squared_error(y_test, LR_pred))\n",
    "print(\"rmse:\", mean_squared_error(y_test, LR_pred, squared = False))\n",
    "print(\"r2:\", r2_score(y_test, LR_pred))"
   ]
  },
  {
   "cell_type": "markdown",
   "id": "751417e9",
   "metadata": {},
   "source": [
    "## KNN Part:"
   ]
  },
  {
   "cell_type": "code",
   "execution_count": 78,
   "id": "dc51c622",
   "metadata": {},
   "outputs": [
    {
     "name": "stdout",
     "output_type": "stream",
     "text": [
      "Fitting 10 folds for each of 24 candidates, totalling 240 fits\n"
     ]
    },
    {
     "data": {
      "text/plain": [
       "{'algorithm': 'auto', 'n_neighbors': 10, 'p': 2, 'weights': 'distance'}"
      ]
     },
     "execution_count": 78,
     "metadata": {},
     "output_type": "execute_result"
    }
   ],
   "source": [
    "#Grid search for KNN:\n",
    "knn = KNeighborsRegressor()\n",
    "parameters = {\"n_neighbors\" :[5, 10], \n",
    "              \"weights\": [\"uniform\", \"distance\"],\n",
    "              \"algorithm\": [\"auto\", \"kd_tree\"],\n",
    "               \"p\":[1,2,3]}\n",
    "grid_knn = GridSearchCV(estimator = knn, param_grid = parameters, cv = 10, verbose = 1, n_jobs = -1)\n",
    "Grid = grid_knn.fit(X_train, y_train)\n",
    "Grid.best_params_"
   ]
  },
  {
   "cell_type": "code",
   "execution_count": 79,
   "id": "e0773c7a",
   "metadata": {},
   "outputs": [
    {
     "data": {
      "text/plain": [
       "KNeighborsRegressor(n_neighbors=10, weights='distance')"
      ]
     },
     "execution_count": 79,
     "metadata": {},
     "output_type": "execute_result"
    }
   ],
   "source": [
    "#KNN\n",
    "knn = KNeighborsRegressor(n_neighbors = 10, weights = \"distance\", algorithm='auto', p=2)\n",
    "knn.fit(X_train,y_train)"
   ]
  },
  {
   "cell_type": "code",
   "execution_count": 80,
   "id": "93a65c18",
   "metadata": {},
   "outputs": [
    {
     "name": "stdout",
     "output_type": "stream",
     "text": [
      "mae: 1710.8524239867743\n",
      "mse: 277379152.3300635\n",
      "rmse: 16654.703609793345\n",
      "r2: 0.9979270242723602\n"
     ]
    }
   ],
   "source": [
    "#MAE & R2 - KNN - train set:\n",
    "print(\"mae:\", mean_absolute_error(y_train, knn.predict(X_train)))\n",
    "print(\"mse:\", mean_squared_error(y_train, knn.predict(X_train)))\n",
    "print(\"rmse:\", mean_squared_error(y_train, knn.predict(X_train), squared = False))\n",
    "print(\"r2:\", r2_score(y_train, knn.predict(X_train)))"
   ]
  },
  {
   "cell_type": "code",
   "execution_count": 81,
   "id": "1c1b984b",
   "metadata": {},
   "outputs": [
    {
     "name": "stdout",
     "output_type": "stream",
     "text": [
      "mae: 62603.27825571841\n",
      "mse: 30175147028.30315\n",
      "rmse: 173709.95086149542\n",
      "r2: 0.7758432895100418\n"
     ]
    }
   ],
   "source": [
    "#MAE & R2 - KNN - test set:\n",
    "print(\"mae:\", mean_absolute_error(y_test, knn.predict(X_test)))\n",
    "print(\"mse:\", mean_squared_error(y_test, knn.predict(X_test)))\n",
    "print(\"rmse:\", mean_squared_error(y_test, knn.predict(X_test), squared = False))\n",
    "print(\"r2:\", r2_score(y_test, knn.predict(X_test)))"
   ]
  },
  {
   "cell_type": "markdown",
   "id": "2094e08e",
   "metadata": {},
   "source": [
    "## SVM part:"
   ]
  },
  {
   "cell_type": "code",
   "execution_count": 82,
   "id": "cf65db28",
   "metadata": {},
   "outputs": [
    {
     "data": {
      "text/plain": [
       "Pipeline(steps=[('standardscaler', StandardScaler()),\n",
       "                ('linearsvr', LinearSVR(random_state=666))])"
      ]
     },
     "execution_count": 82,
     "metadata": {},
     "output_type": "execute_result"
    }
   ],
   "source": [
    "#SVM regression\n",
    "SVR = make_pipeline(StandardScaler(), LinearSVR(random_state=666))\n",
    "SVR.fit(X_train, y_train)"
   ]
  },
  {
   "cell_type": "code",
   "execution_count": 83,
   "id": "2f693f6f",
   "metadata": {},
   "outputs": [
    {
     "name": "stdout",
     "output_type": "stream",
     "text": [
      "mae: 375162.013869005\n",
      "mse: 274553772611.41455\n",
      "rmse: 523978.7902304964\n",
      "r2: -1.05186042921546\n"
     ]
    }
   ],
   "source": [
    "#MAE & R2 - SVM - train set:\n",
    "print(\"mae:\", mean_absolute_error(y_train, SVR.predict(X_train)))\n",
    "print(\"mse:\", mean_squared_error(y_train, SVR.predict(X_train)))\n",
    "print(\"rmse:\", mean_squared_error(y_train, SVR.predict(X_train), squared = False))\n",
    "print(\"r2:\", r2_score(y_train, SVR.predict(X_train)))"
   ]
  },
  {
   "cell_type": "code",
   "execution_count": 84,
   "id": "f979559f",
   "metadata": {},
   "outputs": [
    {
     "name": "stdout",
     "output_type": "stream",
     "text": [
      "mae: 376237.755547602\n",
      "mse: 276171148886.7491\n",
      "rmse: 525519.884387593\n",
      "r2: -1.0515431526686854\n"
     ]
    }
   ],
   "source": [
    "#MAE & R2 - KNN - test set:\n",
    "print(\"mae:\", mean_absolute_error(y_test, SVR.predict(X_test)))\n",
    "print(\"mse:\", mean_squared_error(y_test, SVR.predict(X_test)))\n",
    "print(\"rmse:\", mean_squared_error(y_test, SVR.predict(X_test), squared = False))\n",
    "print(\"r2:\", r2_score(y_test, SVR.predict(X_test)))"
   ]
  },
  {
   "cell_type": "markdown",
   "id": "1b77fb05",
   "metadata": {},
   "source": [
    "## Decision Tree Part:"
   ]
  },
  {
   "cell_type": "code",
   "execution_count": 89,
   "id": "1941867f",
   "metadata": {},
   "outputs": [
    {
     "data": {
      "text/plain": [
       "DecisionTreeRegressor(random_state=666)"
      ]
     },
     "execution_count": 89,
     "metadata": {},
     "output_type": "execute_result"
    }
   ],
   "source": [
    "#Decision Tree:\n",
    "DT = tree.DecisionTreeRegressor(random_state=666)\n",
    "DT.fit(X_train, y_train)"
   ]
  },
  {
   "cell_type": "code",
   "execution_count": 90,
   "id": "e94c15f8",
   "metadata": {},
   "outputs": [
    {
     "name": "stdout",
     "output_type": "stream",
     "text": [
      "mae: 1710.0477605740462\n",
      "mse: 277375991.0109025\n",
      "rmse: 16654.608701824924\n",
      "r2: 0.997927047898281\n"
     ]
    }
   ],
   "source": [
    "#MAE & R2 - DT - train set:\n",
    "print(\"mae:\", mean_absolute_error(y_train, DT.predict(X_train)))\n",
    "print(\"mse:\", mean_squared_error(y_train, DT.predict(X_train)))\n",
    "print(\"rmse:\", mean_squared_error(y_train, DT.predict(X_train), squared = False))\n",
    "print(\"r2:\", r2_score(y_train, DT.predict(X_train)))"
   ]
  },
  {
   "cell_type": "code",
   "execution_count": 91,
   "id": "8a9f67f0",
   "metadata": {},
   "outputs": [
    {
     "name": "stdout",
     "output_type": "stream",
     "text": [
      "mae: 76303.27617537114\n",
      "mse: 41682217480.05928\n",
      "rmse: 204162.23323636348\n",
      "r2: 0.6903627761119635\n"
     ]
    }
   ],
   "source": [
    "#MAE & R2 - DT - test set:\n",
    "print(\"mae:\", mean_absolute_error(y_test, DT.predict(X_test)))\n",
    "print(\"mse:\", mean_squared_error(y_test, DT.predict(X_test)))\n",
    "print(\"rmse:\", mean_squared_error(y_test, DT.predict(X_test), squared = False))\n",
    "print(\"r2:\", r2_score(y_test, DT.predict(X_test)))"
   ]
  },
  {
   "cell_type": "markdown",
   "id": "ce098fd9",
   "metadata": {},
   "source": [
    "## MLP Part:"
   ]
  },
  {
   "cell_type": "code",
   "execution_count": null,
   "id": "e5c3be8b",
   "metadata": {},
   "outputs": [
    {
     "name": "stdout",
     "output_type": "stream",
     "text": [
      "Epoch 1/30\n"
     ]
    },
    {
     "name": "stderr",
     "output_type": "stream",
     "text": [
      "C:\\Users\\TL\\Anaconda\\lib\\site-packages\\keras\\optimizer_v2\\adam.py:105: UserWarning: The `lr` argument is deprecated, use `learning_rate` instead.\n",
      "  super(Adam, self).__init__(name, **kwargs)\n"
     ]
    },
    {
     "name": "stdout",
     "output_type": "stream",
     "text": [
      "11176/11176 - 8s - loss: 376846.3438 - 8s/epoch - 756us/step\n",
      "Epoch 2/30\n",
      "11176/11176 - 8s - loss: 357849.5938 - 8s/epoch - 742us/step\n",
      "Epoch 3/30\n",
      "11176/11176 - 8s - loss: 338840.4062 - 8s/epoch - 745us/step\n",
      "Epoch 4/30\n",
      "11176/11176 - 8s - loss: 319823.7500 - 8s/epoch - 730us/step\n",
      "Epoch 5/30\n",
      "11176/11176 - 8s - loss: 300804.8438 - 8s/epoch - 742us/step\n",
      "Epoch 6/30\n",
      "11176/11176 - 8s - loss: 281825.0000 - 8s/epoch - 740us/step\n",
      "Epoch 7/30\n",
      "11176/11176 - 8s - loss: 263444.6250 - 8s/epoch - 744us/step\n",
      "Epoch 8/30\n",
      "11176/11176 - 8s - loss: 246743.7969 - 8s/epoch - 741us/step\n",
      "Epoch 9/30\n",
      "11176/11176 - 8s - loss: 232417.3438 - 8s/epoch - 742us/step\n",
      "Epoch 10/30\n",
      "11176/11176 - 8s - loss: 220715.1094 - 8s/epoch - 736us/step\n",
      "Epoch 11/30\n",
      "11176/11176 - 9s - loss: 211766.9219 - 9s/epoch - 815us/step\n",
      "Epoch 12/30\n",
      "11176/11176 - 8s - loss: 204920.6250 - 8s/epoch - 731us/step\n",
      "Epoch 13/30\n",
      "11176/11176 - 8s - loss: 199899.0312 - 8s/epoch - 749us/step\n",
      "Epoch 14/30\n",
      "11176/11176 - 8s - loss: 195783.8125 - 8s/epoch - 701us/step\n",
      "Epoch 15/30\n",
      "11176/11176 - 8s - loss: 192531.2812 - 8s/epoch - 733us/step\n",
      "Epoch 16/30\n",
      "11176/11176 - 8s - loss: 190308.6094 - 8s/epoch - 736us/step\n",
      "Epoch 17/30\n",
      "11176/11176 - 8s - loss: 188608.2500 - 8s/epoch - 718us/step\n",
      "Epoch 18/30\n"
     ]
    }
   ],
   "source": [
    "model = Sequential()\n",
    "model.add(Dense(16, input_dim=7, activation='tanh'))\n",
    "model.add(Dense(16, activation='tanh'))\n",
    "model.add(Dense(1, activation='linear'))\n",
    "\n",
    "optimizer = Adam(lr=0.1, beta_1=0.9, beta_2=0.999, epsilon=1e-8)\n",
    "model.compile(loss='mean_absolute_error', optimizer=optimizer)\n",
    "\n",
    "model.fit(X_train, y_train, epochs=30, batch_size=1, verbose=2)"
   ]
  },
  {
   "cell_type": "code",
   "execution_count": 137,
   "id": "67274a81",
   "metadata": {},
   "outputs": [],
   "source": [
    "y_pred = model.predict(X_test)"
   ]
  },
  {
   "cell_type": "code",
   "execution_count": 138,
   "id": "f4eebb8e",
   "metadata": {},
   "outputs": [
    {
     "data": {
      "text/plain": [
       "184070.12"
      ]
     },
     "execution_count": 138,
     "metadata": {},
     "output_type": "execute_result"
    }
   ],
   "source": [
    "import tensorflow.keras.losses\n",
    "mae = tensorflow.keras.losses.MeanAbsoluteError()\n",
    "mae(y_test, y_pred).numpy()"
   ]
  },
  {
   "cell_type": "code",
   "execution_count": 139,
   "id": "279e025d",
   "metadata": {},
   "outputs": [
    {
     "name": "stdout",
     "output_type": "stream",
     "text": [
      "mae: 184070.42396653543\n",
      "mse: 150299144072.42917\n",
      "rmse: 387684.3356036315\n",
      "r2: -0.11650033363985068\n"
     ]
    }
   ],
   "source": [
    "#MAE & R2 - MLP - test set:\n",
    "print(\"mae:\", mean_absolute_error(y_test, y_pred))\n",
    "print(\"mse:\", mean_squared_error(y_test, y_pred))\n",
    "print(\"rmse:\", mean_squared_error(y_test, y_pred, squared = False))\n",
    "print(\"r2:\", r2_score(y_test, y_pred))"
   ]
  },
  {
   "cell_type": "code",
   "execution_count": null,
   "id": "41beb2b6",
   "metadata": {},
   "outputs": [],
   "source": [
    "print(mean_absolute_error(y_val, y_pred))\n",
    "print(r2_score(y_val, y_pred))"
   ]
  },
  {
   "cell_type": "code",
   "execution_count": null,
   "id": "8e82010d",
   "metadata": {},
   "outputs": [],
   "source": [
    "model = Sequential()\n",
    "# Add two hidden layers with 4 hidden units each, and the tanh activation.\n",
    "\n",
    "model.add(Dense(16, input_dim=3, activation='tanh'))\n",
    "model.add(Dense(16, activation='tanh'))\n",
    "\n",
    "# The final layer is the output layer with an inverse logit activation function.\n",
    "model.add(Dense(1, activation='linear'))\n",
    "\n",
    "# Use the Adam optimizer. Adam works similar to regular SGD, \n",
    "# but with some important improvements: https://arxiv.org/abs/1412.6980\n",
    "optimizer = Adam(lr=0.02)\n",
    "model.compile(optimizer=optimizer, loss='mean_squared_error')\n",
    "model.fit(X_train, y_train, epochs=20, batch_size=1, verbose=2)"
   ]
  },
  {
   "cell_type": "code",
   "execution_count": null,
   "id": "731de9c7",
   "metadata": {},
   "outputs": [],
   "source": []
  },
  {
   "cell_type": "code",
   "execution_count": null,
   "id": "f4947460",
   "metadata": {},
   "outputs": [],
   "source": []
  },
  {
   "cell_type": "code",
   "execution_count": null,
   "id": "4f5ff445",
   "metadata": {},
   "outputs": [],
   "source": []
  },
  {
   "cell_type": "code",
   "execution_count": null,
   "id": "d9b00bee",
   "metadata": {},
   "outputs": [],
   "source": []
  },
  {
   "cell_type": "code",
   "execution_count": null,
   "id": "196e63a2",
   "metadata": {},
   "outputs": [],
   "source": []
  },
  {
   "cell_type": "code",
   "execution_count": null,
   "id": "88daf2e5",
   "metadata": {},
   "outputs": [],
   "source": []
  },
  {
   "cell_type": "code",
   "execution_count": 231,
   "id": "64cd6a5a",
   "metadata": {},
   "outputs": [],
   "source": []
  },
  {
   "cell_type": "code",
   "execution_count": null,
   "id": "2a962cb6",
   "metadata": {},
   "outputs": [],
   "source": []
  },
  {
   "cell_type": "code",
   "execution_count": null,
   "id": "7108a11e",
   "metadata": {},
   "outputs": [],
   "source": []
  },
  {
   "cell_type": "code",
   "execution_count": null,
   "id": "04518b92",
   "metadata": {},
   "outputs": [],
   "source": []
  },
  {
   "cell_type": "code",
   "execution_count": null,
   "id": "08e34cc3",
   "metadata": {},
   "outputs": [],
   "source": []
  },
  {
   "cell_type": "code",
   "execution_count": null,
   "id": "8be60ee3",
   "metadata": {},
   "outputs": [],
   "source": []
  },
  {
   "cell_type": "code",
   "execution_count": null,
   "id": "e02a9939",
   "metadata": {},
   "outputs": [],
   "source": []
  },
  {
   "cell_type": "code",
   "execution_count": null,
   "id": "f317ad70",
   "metadata": {},
   "outputs": [],
   "source": []
  },
  {
   "cell_type": "code",
   "execution_count": null,
   "id": "9eec2b8a",
   "metadata": {},
   "outputs": [],
   "source": []
  },
  {
   "cell_type": "code",
   "execution_count": 239,
   "id": "7b151661",
   "metadata": {},
   "outputs": [],
   "source": []
  },
  {
   "cell_type": "code",
   "execution_count": null,
   "id": "00516386",
   "metadata": {},
   "outputs": [],
   "source": []
  },
  {
   "cell_type": "code",
   "execution_count": null,
   "id": "c83457db",
   "metadata": {},
   "outputs": [],
   "source": []
  },
  {
   "cell_type": "code",
   "execution_count": null,
   "id": "71736232",
   "metadata": {},
   "outputs": [],
   "source": []
  },
  {
   "cell_type": "code",
   "execution_count": null,
   "id": "dd2c31cf",
   "metadata": {},
   "outputs": [],
   "source": []
  },
  {
   "cell_type": "code",
   "execution_count": null,
   "id": "0e2c7282",
   "metadata": {},
   "outputs": [],
   "source": []
  },
  {
   "cell_type": "code",
   "execution_count": null,
   "id": "b8770edc",
   "metadata": {},
   "outputs": [],
   "source": []
  },
  {
   "cell_type": "code",
   "execution_count": null,
   "id": "2ec24863",
   "metadata": {},
   "outputs": [],
   "source": []
  },
  {
   "cell_type": "code",
   "execution_count": null,
   "id": "52ff58dc",
   "metadata": {},
   "outputs": [],
   "source": []
  },
  {
   "cell_type": "code",
   "execution_count": 377,
   "id": "7c52348f",
   "metadata": {},
   "outputs": [],
   "source": []
  },
  {
   "cell_type": "code",
   "execution_count": 380,
   "id": "882b15ca",
   "metadata": {},
   "outputs": [],
   "source": []
  },
  {
   "cell_type": "code",
   "execution_count": null,
   "id": "dd86b801",
   "metadata": {},
   "outputs": [],
   "source": []
  },
  {
   "cell_type": "code",
   "execution_count": null,
   "id": "4c8718ae",
   "metadata": {},
   "outputs": [],
   "source": []
  }
 ],
 "metadata": {
  "kernelspec": {
   "display_name": "Python 3 (ipykernel)",
   "language": "python",
   "name": "python3"
  },
  "language_info": {
   "codemirror_mode": {
    "name": "ipython",
    "version": 3
   },
   "file_extension": ".py",
   "mimetype": "text/x-python",
   "name": "python",
   "nbconvert_exporter": "python",
   "pygments_lexer": "ipython3",
   "version": "3.9.7"
  }
 },
 "nbformat": 4,
 "nbformat_minor": 5
}
